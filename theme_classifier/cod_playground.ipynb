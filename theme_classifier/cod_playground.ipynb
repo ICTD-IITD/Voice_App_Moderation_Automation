{
  "nbformat": 4,
  "nbformat_minor": 0,
  "metadata": {
    "colab": {
      "name": "cod_playground",
      "provenance": [],
      "collapsed_sections": []
    },
    "kernelspec": {
      "display_name": "Python 3",
      "name": "python3"
    }
  },
  "cells": [
    {
      "cell_type": "code",
      "metadata": {
        "colab": {
          "base_uri": "https://localhost:8080/"
        },
        "id": "-pfH3Z4qxxq7",
        "outputId": "b6a4406a-a8f4-44a5-a523-1032ada656ce"
      },
      "source": [
        "import pandas as pd\n",
        "import numpy as np\n",
        "from sklearn.model_selection import KFold\n",
        "\n",
        "from nltk.tokenize import word_tokenize\n",
        "from sklearn import linear_model\n",
        "from sklearn import metrics\n",
        "from sklearn import model_selection\n",
        "from sklearn.feature_extraction.text import CountVectorizer\n",
        "\n",
        "import nltk\n",
        "nltk.download('punkt')\n",
        "\n",
        "from sklearn.preprocessing import StandardScaler\n",
        "from sklearn.svm import SVC\n",
        "\n",
        "from sklearn.feature_extraction.text import TfidfVectorizer\n",
        "from sklearn.feature_extraction.text import CountVectorizer\n",
        "from sklearn.feature_extraction.text import TfidfTransformer"
      ],
      "execution_count": null,
      "outputs": [
        {
          "output_type": "stream",
          "text": [
            "[nltk_data] Downloading package punkt to /root/nltk_data...\n",
            "[nltk_data]   Unzipping tokenizers/punkt.zip.\n"
          ],
          "name": "stdout"
        }
      ]
    },
    {
      "cell_type": "code",
      "metadata": {
        "id": "2tVhZ_28yZmY"
      },
      "source": [
        "input_path = \"/content/drive/My Drive/Colab Notebooks (1)/cod/data/all_classes_data.txt\"\n",
        "input_path2 = \"/content/drive/My Drive/Colab Notebooks (1)/cod/data/all_classes_data2.txt\"\n",
        "input_path3 = \"/content/drive/MyDrive/Colab Notebooks (1)/cod/data/new_data_labels.csv\"\n",
        "stopwords_path = \"/content/drive/My Drive/Colab Notebooks (1)/cod/data/stopwords.txt\""
      ],
      "execution_count": null,
      "outputs": []
    },
    {
      "cell_type": "code",
      "metadata": {
        "id": "JmWLycsfdztZ"
      },
      "source": [
        "stopwords = pd.read_csv(stopwords_path, header=None, encoding='utf8', names=[\"label_sentence\"])\n",
        "stopwords = np.array(stopwords)\n",
        "stopwords = np.ravel(stopwords)\n",
        "# stopwords"
      ],
      "execution_count": null,
      "outputs": []
    },
    {
      "cell_type": "code",
      "metadata": {
        "id": "HZc6ordsydUI"
      },
      "source": [
        "df = pd.read_csv(input_path, header=None, encoding='utf8', names=[\"label_sentence\"])\n",
        "df[['label','sentence']] = df[\"label_sentence\"].str.split(\" \", 1, expand=True)\n",
        "df['label'] = df['label'].apply(lambda x: x.split(\"__\")[2])\n",
        "df['label'] = df['label'].str.lower()\n",
        "df = df.drop(columns=[\"label_sentence\"])\n",
        "df['sentence'] = df['sentence'].astype('unicode')"
      ],
      "execution_count": null,
      "outputs": []
    },
    {
      "cell_type": "code",
      "metadata": {
        "id": "bT2DdK90BgS0"
      },
      "source": [
        "df2 = pd.read_csv(input_path2, header=None, encoding='utf8', names=[\"label_sentence\"])\n",
        "df2[['label','sentence']] = df2[\"label_sentence\"].str.split(\" \", 1, expand=True)\n",
        "df2['label'] = df2['label'].apply(lambda x: x.split(\"__\")[2])\n",
        "df2['label'] = df2['label'].str.lower()\n",
        "df2 = df2.drop(columns=[\"label_sentence\"])\n",
        "df2['sentence'] = df2['sentence'].astype('unicode')"
      ],
      "execution_count": null,
      "outputs": []
    },
    {
      "cell_type": "code",
      "metadata": {
        "id": "FAX2Bh-HxSSy"
      },
      "source": [
        "dfnew = pd.read_csv(input_path3, encoding='utf8')\n",
        "df3 = dfnew[['labels', 'ML transcript']].copy()\n",
        "df3['labels'] = df3['labels'].apply(str)\n",
        "df3 = df3.rename(columns={\"labels\":\"label\",\"ML transcript\":\"sentence\"})"
      ],
      "execution_count": null,
      "outputs": []
    },
    {
      "cell_type": "code",
      "metadata": {
        "id": "nsi2gd16Bujv"
      },
      "source": [
        "df = df.append(df2).reset_index()"
      ],
      "execution_count": null,
      "outputs": []
    },
    {
      "cell_type": "code",
      "metadata": {
        "colab": {
          "base_uri": "https://localhost:8080/"
        },
        "id": "XCkkTrAkBrAn",
        "outputId": "a17c3684-6f3d-4b8d-c599-9fe7ac334282"
      },
      "source": [
        "df3['sentence']"
      ],
      "execution_count": null,
      "outputs": [
        {
          "output_type": "execute_result",
          "data": {
            "text/plain": [
              "0        इटली एयरपोर्ट कोल्हापुर आयुर्वैदिक मेडिसिन छात...\n",
              "1        चंदन कुमार ग्राम पोस्ट कुलवा जिला जमुई को नववर...\n",
              "2        नमस्कार महेश कुमार ग्राम पोस्ट बिलारी थाना दुम...\n",
              "3        लखनऊ से बिहार मोबाइल वाणिज्य मंत्री से मोबाइल ...\n",
              "4        नमस्कार मैं मनीषा कुमारी रांची झारखंड के प्रगत...\n",
              "                               ...                        \n",
              "14438    गाजीपुर मोबाइल वाणी सुनने की सभी सड़कों को के ...\n",
              "14439    आप सुन रहे हैं मोबाइल वाले और गांव मुजाहिद गां...\n",
              "14440    चंदन सिंह राजपूत बरहट प्रखंड अंतर्गत मोबाइल मा...\n",
              "14441    नमस्कार श्रोताओं मोबाइल पानी में आपका स्वागत ह...\n",
              "14442    नीलगाय को जान से मारने को ले दो भाइयों को आपस ...\n",
              "Name: sentence, Length: 14443, dtype: object"
            ]
          },
          "metadata": {
            "tags": []
          },
          "execution_count": 8
        }
      ]
    },
    {
      "cell_type": "code",
      "metadata": {
        "id": "lSnZcrRHPYdH"
      },
      "source": [
        "df = df.append(df3).reset_index()"
      ],
      "execution_count": null,
      "outputs": []
    },
    {
      "cell_type": "code",
      "metadata": {
        "id": "IEr1sDC7QFc9"
      },
      "source": [
        "df = df.drop(columns=['index','level_0'])"
      ],
      "execution_count": null,
      "outputs": []
    },
    {
      "cell_type": "code",
      "metadata": {
        "colab": {
          "base_uri": "https://localhost:8080/",
          "height": 419
        },
        "id": "0EEDoLmpQd_z",
        "outputId": "24fe5e93-e5aa-460d-9d7f-a0e29dc1750f"
      },
      "source": [
        "df"
      ],
      "execution_count": null,
      "outputs": [
        {
          "output_type": "execute_result",
          "data": {
            "text/html": [
              "<div>\n",
              "<style scoped>\n",
              "    .dataframe tbody tr th:only-of-type {\n",
              "        vertical-align: middle;\n",
              "    }\n",
              "\n",
              "    .dataframe tbody tr th {\n",
              "        vertical-align: top;\n",
              "    }\n",
              "\n",
              "    .dataframe thead th {\n",
              "        text-align: right;\n",
              "    }\n",
              "</style>\n",
              "<table border=\"1\" class=\"dataframe\">\n",
              "  <thead>\n",
              "    <tr style=\"text-align: right;\">\n",
              "      <th></th>\n",
              "      <th>label</th>\n",
              "      <th>sentence</th>\n",
              "    </tr>\n",
              "  </thead>\n",
              "  <tbody>\n",
              "    <tr>\n",
              "      <th>0</th>\n",
              "      <td>local_news</td>\n",
              "      <td>नमस्कार दोस्तों मैं जिला मिर्जापुर के चुनार तह...</td>\n",
              "    </tr>\n",
              "    <tr>\n",
              "      <th>1</th>\n",
              "      <td>local_news</td>\n",
              "      <td>नमस्ते दोस्तों गुड मॉर्निंग सभी अच्छे होंगे दो...</td>\n",
              "    </tr>\n",
              "    <tr>\n",
              "      <th>2</th>\n",
              "      <td>local_news</td>\n",
              "      <td>जीवन की ओर मंच ग्राम पंचायत सिंदरी पंचम पुरा प...</td>\n",
              "    </tr>\n",
              "    <tr>\n",
              "      <th>3</th>\n",
              "      <td>local_news</td>\n",
              "      <td>किसानों की बड़ी चिंता न पत्थर में 10 नंबर गाड़...</td>\n",
              "    </tr>\n",
              "    <tr>\n",
              "      <th>4</th>\n",
              "      <td>local_news</td>\n",
              "      <td>मैं भाग्य तुम्हारे हर बार बढ़िया भजन नगर सागर ...</td>\n",
              "    </tr>\n",
              "    <tr>\n",
              "      <th>...</th>\n",
              "      <td>...</td>\n",
              "      <td>...</td>\n",
              "    </tr>\n",
              "    <tr>\n",
              "      <th>26498</th>\n",
              "      <td>local_news, governance, health, governance, go...</td>\n",
              "      <td>गाजीपुर मोबाइल वाणी सुनने की सभी सड़कों को के ...</td>\n",
              "    </tr>\n",
              "    <tr>\n",
              "      <th>26499</th>\n",
              "      <td>local_news, governance, health, health,</td>\n",
              "      <td>आप सुन रहे हैं मोबाइल वाले और गांव मुजाहिद गां...</td>\n",
              "    </tr>\n",
              "    <tr>\n",
              "      <th>26500</th>\n",
              "      <td>local_news, governance, governance, culture_&amp;_...</td>\n",
              "      <td>चंदन सिंह राजपूत बरहट प्रखंड अंतर्गत मोबाइल मा...</td>\n",
              "    </tr>\n",
              "    <tr>\n",
              "      <th>26501</th>\n",
              "      <td>local_news, governance, health, governance, he...</td>\n",
              "      <td>नमस्कार श्रोताओं मोबाइल पानी में आपका स्वागत ह...</td>\n",
              "    </tr>\n",
              "    <tr>\n",
              "      <th>26502</th>\n",
              "      <td>local_news, governance, governance, environmen...</td>\n",
              "      <td>नीलगाय को जान से मारने को ले दो भाइयों को आपस ...</td>\n",
              "    </tr>\n",
              "  </tbody>\n",
              "</table>\n",
              "<p>26503 rows × 2 columns</p>\n",
              "</div>"
            ],
            "text/plain": [
              "                                                   label                                           sentence\n",
              "0                                             local_news  नमस्कार दोस्तों मैं जिला मिर्जापुर के चुनार तह...\n",
              "1                                             local_news  नमस्ते दोस्तों गुड मॉर्निंग सभी अच्छे होंगे दो...\n",
              "2                                             local_news  जीवन की ओर मंच ग्राम पंचायत सिंदरी पंचम पुरा प...\n",
              "3                                             local_news  किसानों की बड़ी चिंता न पत्थर में 10 नंबर गाड़...\n",
              "4                                             local_news  मैं भाग्य तुम्हारे हर बार बढ़िया भजन नगर सागर ...\n",
              "...                                                  ...                                                ...\n",
              "26498  local_news, governance, health, governance, go...  गाजीपुर मोबाइल वाणी सुनने की सभी सड़कों को के ...\n",
              "26499           local_news, governance, health, health,   आप सुन रहे हैं मोबाइल वाले और गांव मुजाहिद गां...\n",
              "26500  local_news, governance, governance, culture_&_...  चंदन सिंह राजपूत बरहट प्रखंड अंतर्गत मोबाइल मा...\n",
              "26501  local_news, governance, health, governance, he...  नमस्कार श्रोताओं मोबाइल पानी में आपका स्वागत ह...\n",
              "26502  local_news, governance, governance, environmen...  नीलगाय को जान से मारने को ले दो भाइयों को आपस ...\n",
              "\n",
              "[26503 rows x 2 columns]"
            ]
          },
          "metadata": {
            "tags": []
          },
          "execution_count": 11
        }
      ]
    },
    {
      "cell_type": "code",
      "metadata": {
        "colab": {
          "base_uri": "https://localhost:8080/"
        },
        "id": "4mldy_KEyzwt",
        "outputId": "8d42db2c-0875-4b43-8e09-b82f1946adb5"
      },
      "source": [
        "df = df.groupby('sentence').agg({'label': ', '.join}).reset_index()\n",
        "print(df.shape)"
      ],
      "execution_count": null,
      "outputs": [
        {
          "output_type": "stream",
          "text": [
            "(22428, 2)\n"
          ],
          "name": "stdout"
        }
      ]
    },
    {
      "cell_type": "code",
      "metadata": {
        "colab": {
          "base_uri": "https://localhost:8080/",
          "height": 419
        },
        "id": "2PTfA5jACmE7",
        "outputId": "42f4743c-bc3e-4b1c-aa48-17ff753780c3"
      },
      "source": [
        "df"
      ],
      "execution_count": null,
      "outputs": [
        {
          "output_type": "execute_result",
          "data": {
            "text/html": [
              "<div>\n",
              "<style scoped>\n",
              "    .dataframe tbody tr th:only-of-type {\n",
              "        vertical-align: middle;\n",
              "    }\n",
              "\n",
              "    .dataframe tbody tr th {\n",
              "        vertical-align: top;\n",
              "    }\n",
              "\n",
              "    .dataframe thead th {\n",
              "        text-align: right;\n",
              "    }\n",
              "</style>\n",
              "<table border=\"1\" class=\"dataframe\">\n",
              "  <thead>\n",
              "    <tr style=\"text-align: right;\">\n",
              "      <th></th>\n",
              "      <th>sentence</th>\n",
              "      <th>label</th>\n",
              "    </tr>\n",
              "  </thead>\n",
              "  <tbody>\n",
              "    <tr>\n",
              "      <th>0</th>\n",
              "      <td></td>\n",
              "      <td>local_news, local_news, local_news, health, he...</td>\n",
              "    </tr>\n",
              "    <tr>\n",
              "      <th>1</th>\n",
              "      <td>$10 कीमत वाली मोबाइल वाली से पूरे बिहार में आज...</td>\n",
              "      <td>employment, governance, governance,</td>\n",
              "    </tr>\n",
              "    <tr>\n",
              "      <th>2</th>\n",
              "      <td>* * *</td>\n",
              "      <td>local_news,</td>\n",
              "    </tr>\n",
              "    <tr>\n",
              "      <th>3</th>\n",
              "      <td>* * * * * * * * *</td>\n",
              "      <td>livelihood, social_issues,</td>\n",
              "    </tr>\n",
              "    <tr>\n",
              "      <th>4</th>\n",
              "      <td>* चमारी के बोल रहे गाना गा रहे हैं मैं जिस दिन...</td>\n",
              "      <td>culture_&amp;_entertainment</td>\n",
              "    </tr>\n",
              "    <tr>\n",
              "      <th>...</th>\n",
              "      <td>...</td>\n",
              "      <td>...</td>\n",
              "    </tr>\n",
              "    <tr>\n",
              "      <th>22423</th>\n",
              "      <td>होली होली होली  होली बगीचे में घूमने का मजा ही...</td>\n",
              "      <td>culture_&amp;_entertainment</td>\n",
              "    </tr>\n",
              "    <tr>\n",
              "      <th>22424</th>\n",
              "      <td>होली होली होली  होली रे होली क्यों नहीं आ सकती...</td>\n",
              "      <td>culture_&amp;_entertainment</td>\n",
              "    </tr>\n",
              "    <tr>\n",
              "      <th>22425</th>\n",
              "      <td>हौंडा यूनिकॉर्न कोरिया और जल्दी रिकॉर्डिंग भेज...</td>\n",
              "      <td>culture_&amp;_entertainment,</td>\n",
              "    </tr>\n",
              "    <tr>\n",
              "      <th>22426</th>\n",
              "      <td>₹1 तक की कहानियां सुना रहे हैं मुझे बहुत अच्छा...</td>\n",
              "      <td>culture_&amp;_entertainment,</td>\n",
              "    </tr>\n",
              "    <tr>\n",
              "      <th>22427</th>\n",
              "      <td>₹12 में करा देंगे अब ₹200000 का बीमा किया दोस्...</td>\n",
              "      <td>governance, consumer_issues,</td>\n",
              "    </tr>\n",
              "  </tbody>\n",
              "</table>\n",
              "<p>22428 rows × 2 columns</p>\n",
              "</div>"
            ],
            "text/plain": [
              "                                                sentence                                              label\n",
              "0                                                         local_news, local_news, local_news, health, he...\n",
              "1      $10 कीमत वाली मोबाइल वाली से पूरे बिहार में आज...               employment, governance, governance, \n",
              "2                                                 * * *                                        local_news, \n",
              "3                                     * * * * * * * * *                         livelihood, social_issues, \n",
              "4      * चमारी के बोल रहे गाना गा रहे हैं मैं जिस दिन...                            culture_&_entertainment\n",
              "...                                                  ...                                                ...\n",
              "22423  होली होली होली  होली बगीचे में घूमने का मजा ही...                            culture_&_entertainment\n",
              "22424  होली होली होली  होली रे होली क्यों नहीं आ सकती...                            culture_&_entertainment\n",
              "22425  हौंडा यूनिकॉर्न कोरिया और जल्दी रिकॉर्डिंग भेज...                          culture_&_entertainment, \n",
              "22426  ₹1 तक की कहानियां सुना रहे हैं मुझे बहुत अच्छा...                          culture_&_entertainment, \n",
              "22427  ₹12 में करा देंगे अब ₹200000 का बीमा किया दोस्...                      governance, consumer_issues, \n",
              "\n",
              "[22428 rows x 2 columns]"
            ]
          },
          "metadata": {
            "tags": []
          },
          "execution_count": 13
        }
      ]
    },
    {
      "cell_type": "code",
      "metadata": {
        "colab": {
          "base_uri": "https://localhost:8080/"
        },
        "id": "5paXjpuDy06C",
        "outputId": "676ffd47-bec8-4f2f-928a-467ad96328b1"
      },
      "source": [
        "#removing the first row as its only empty string\n",
        "df = df.iloc[1:]\n",
        "print(df.shape)"
      ],
      "execution_count": null,
      "outputs": [
        {
          "output_type": "stream",
          "text": [
            "(22427, 2)\n"
          ],
          "name": "stdout"
        }
      ]
    },
    {
      "cell_type": "code",
      "metadata": {
        "colab": {
          "base_uri": "https://localhost:8080/",
          "height": 419
        },
        "id": "EgKWxq57zGxb",
        "outputId": "09e07d20-0dee-485f-a675-5b66e14e34ea"
      },
      "source": [
        "df"
      ],
      "execution_count": null,
      "outputs": [
        {
          "output_type": "execute_result",
          "data": {
            "text/html": [
              "<div>\n",
              "<style scoped>\n",
              "    .dataframe tbody tr th:only-of-type {\n",
              "        vertical-align: middle;\n",
              "    }\n",
              "\n",
              "    .dataframe tbody tr th {\n",
              "        vertical-align: top;\n",
              "    }\n",
              "\n",
              "    .dataframe thead th {\n",
              "        text-align: right;\n",
              "    }\n",
              "</style>\n",
              "<table border=\"1\" class=\"dataframe\">\n",
              "  <thead>\n",
              "    <tr style=\"text-align: right;\">\n",
              "      <th></th>\n",
              "      <th>sentence</th>\n",
              "      <th>label</th>\n",
              "    </tr>\n",
              "  </thead>\n",
              "  <tbody>\n",
              "    <tr>\n",
              "      <th>1</th>\n",
              "      <td>$10 कीमत वाली मोबाइल वाली से पूरे बिहार में आज...</td>\n",
              "      <td>employment, governance, governance,</td>\n",
              "    </tr>\n",
              "    <tr>\n",
              "      <th>2</th>\n",
              "      <td>* * *</td>\n",
              "      <td>local_news,</td>\n",
              "    </tr>\n",
              "    <tr>\n",
              "      <th>3</th>\n",
              "      <td>* * * * * * * * *</td>\n",
              "      <td>livelihood, social_issues,</td>\n",
              "    </tr>\n",
              "    <tr>\n",
              "      <th>4</th>\n",
              "      <td>* चमारी के बोल रहे गाना गा रहे हैं मैं जिस दिन...</td>\n",
              "      <td>culture_&amp;_entertainment</td>\n",
              "    </tr>\n",
              "    <tr>\n",
              "      <th>5</th>\n",
              "      <td>1 किलोमीटर आगे मत सेंड कर रही हूं यहां पर इंजी...</td>\n",
              "      <td>infrastructure_services, education,</td>\n",
              "    </tr>\n",
              "    <tr>\n",
              "      <th>...</th>\n",
              "      <td>...</td>\n",
              "      <td>...</td>\n",
              "    </tr>\n",
              "    <tr>\n",
              "      <th>22423</th>\n",
              "      <td>होली होली होली  होली बगीचे में घूमने का मजा ही...</td>\n",
              "      <td>culture_&amp;_entertainment</td>\n",
              "    </tr>\n",
              "    <tr>\n",
              "      <th>22424</th>\n",
              "      <td>होली होली होली  होली रे होली क्यों नहीं आ सकती...</td>\n",
              "      <td>culture_&amp;_entertainment</td>\n",
              "    </tr>\n",
              "    <tr>\n",
              "      <th>22425</th>\n",
              "      <td>हौंडा यूनिकॉर्न कोरिया और जल्दी रिकॉर्डिंग भेज...</td>\n",
              "      <td>culture_&amp;_entertainment,</td>\n",
              "    </tr>\n",
              "    <tr>\n",
              "      <th>22426</th>\n",
              "      <td>₹1 तक की कहानियां सुना रहे हैं मुझे बहुत अच्छा...</td>\n",
              "      <td>culture_&amp;_entertainment,</td>\n",
              "    </tr>\n",
              "    <tr>\n",
              "      <th>22427</th>\n",
              "      <td>₹12 में करा देंगे अब ₹200000 का बीमा किया दोस्...</td>\n",
              "      <td>governance, consumer_issues,</td>\n",
              "    </tr>\n",
              "  </tbody>\n",
              "</table>\n",
              "<p>22427 rows × 2 columns</p>\n",
              "</div>"
            ],
            "text/plain": [
              "                                                sentence                                 label\n",
              "1      $10 कीमत वाली मोबाइल वाली से पूरे बिहार में आज...  employment, governance, governance, \n",
              "2                                                 * * *                           local_news, \n",
              "3                                     * * * * * * * * *            livelihood, social_issues, \n",
              "4      * चमारी के बोल रहे गाना गा रहे हैं मैं जिस दिन...               culture_&_entertainment\n",
              "5      1 किलोमीटर आगे मत सेंड कर रही हूं यहां पर इंजी...  infrastructure_services, education, \n",
              "...                                                  ...                                   ...\n",
              "22423  होली होली होली  होली बगीचे में घूमने का मजा ही...               culture_&_entertainment\n",
              "22424  होली होली होली  होली रे होली क्यों नहीं आ सकती...               culture_&_entertainment\n",
              "22425  हौंडा यूनिकॉर्न कोरिया और जल्दी रिकॉर्डिंग भेज...             culture_&_entertainment, \n",
              "22426  ₹1 तक की कहानियां सुना रहे हैं मुझे बहुत अच्छा...             culture_&_entertainment, \n",
              "22427  ₹12 में करा देंगे अब ₹200000 का बीमा किया दोस्...         governance, consumer_issues, \n",
              "\n",
              "[22427 rows x 2 columns]"
            ]
          },
          "metadata": {
            "tags": []
          },
          "execution_count": 15
        }
      ]
    },
    {
      "cell_type": "code",
      "metadata": {
        "id": "s6AgnL_czW6l"
      },
      "source": [
        "from sklearn.preprocessing import MultiLabelBinarizer\n",
        "\n",
        "multilabel_binarizer = MultiLabelBinarizer()\n",
        "label = list(df['label'])\n",
        "label = [[j.lower().replace(',', '') for j in i.split()] for i in label]\n",
        "type(label[0])\n",
        "# label\n",
        "multilabel_binarizer.fit(np.array(label))\n",
        "Y = multilabel_binarizer.transform(label)"
      ],
      "execution_count": null,
      "outputs": []
    },
    {
      "cell_type": "code",
      "metadata": {
        "colab": {
          "base_uri": "https://localhost:8080/"
        },
        "id": "lunqeeBMz_s1",
        "outputId": "30311712-ffa8-4974-8151-a14df0d18790"
      },
      "source": [
        "multilabel_binarizer.classes_"
      ],
      "execution_count": null,
      "outputs": [
        {
          "output_type": "execute_result",
          "data": {
            "text/plain": [
              "array(['', 'agriculture', 'community_groups', 'consumer_issues',\n",
              "       'culture_&_entertainment', 'education', 'employment',\n",
              "       'environment', 'governance', 'health', 'industry',\n",
              "       'infrastructure_services', 'livelihood', 'local_news', 'migration',\n",
              "       'nan', 'prices_inequality', 'social_issues'], dtype=object)"
            ]
          },
          "metadata": {
            "tags": []
          },
          "execution_count": 17
        }
      ]
    },
    {
      "cell_type": "code",
      "metadata": {
        "colab": {
          "base_uri": "https://localhost:8080/"
        },
        "id": "OI3_LFS5z_Dv",
        "outputId": "1335a8e6-63de-4be3-cc70-35567eb40417"
      },
      "source": [
        "#making the dataframe with one hot encoding\n",
        "for i in range(len(multilabel_binarizer.classes_)):\n",
        "    col_title = multilabel_binarizer.classes_[i]\n",
        "    col = Y[:,i]\n",
        "    df[col_title] = col"
      ],
      "execution_count": null,
      "outputs": [
        {
          "output_type": "stream",
          "text": [
            "/usr/local/lib/python3.6/dist-packages/ipykernel_launcher.py:5: SettingWithCopyWarning: \n",
            "A value is trying to be set on a copy of a slice from a DataFrame.\n",
            "Try using .loc[row_indexer,col_indexer] = value instead\n",
            "\n",
            "See the caveats in the documentation: https://pandas.pydata.org/pandas-docs/stable/user_guide/indexing.html#returning-a-view-versus-a-copy\n",
            "  \"\"\"\n"
          ],
          "name": "stderr"
        }
      ]
    },
    {
      "cell_type": "code",
      "metadata": {
        "id": "cfL-rC3n0FwP"
      },
      "source": [
        "count = [df[x].sum() for x in multilabel_binarizer.classes_]\n",
        "count = pd.DataFrame(count, index=multilabel_binarizer.classes_)"
      ],
      "execution_count": null,
      "outputs": []
    },
    {
      "cell_type": "code",
      "metadata": {
        "colab": {
          "base_uri": "https://localhost:8080/",
          "height": 607
        },
        "id": "6HAhjDcQ0xVG",
        "outputId": "d17fad23-639e-4551-fc96-c8c77620624d"
      },
      "source": [
        "count"
      ],
      "execution_count": null,
      "outputs": [
        {
          "output_type": "execute_result",
          "data": {
            "text/html": [
              "<div>\n",
              "<style scoped>\n",
              "    .dataframe tbody tr th:only-of-type {\n",
              "        vertical-align: middle;\n",
              "    }\n",
              "\n",
              "    .dataframe tbody tr th {\n",
              "        vertical-align: top;\n",
              "    }\n",
              "\n",
              "    .dataframe thead th {\n",
              "        text-align: right;\n",
              "    }\n",
              "</style>\n",
              "<table border=\"1\" class=\"dataframe\">\n",
              "  <thead>\n",
              "    <tr style=\"text-align: right;\">\n",
              "      <th></th>\n",
              "      <th>0</th>\n",
              "    </tr>\n",
              "  </thead>\n",
              "  <tbody>\n",
              "    <tr>\n",
              "      <th></th>\n",
              "      <td>6</td>\n",
              "    </tr>\n",
              "    <tr>\n",
              "      <th>agriculture</th>\n",
              "      <td>1854</td>\n",
              "    </tr>\n",
              "    <tr>\n",
              "      <th>community_groups</th>\n",
              "      <td>91</td>\n",
              "    </tr>\n",
              "    <tr>\n",
              "      <th>consumer_issues</th>\n",
              "      <td>289</td>\n",
              "    </tr>\n",
              "    <tr>\n",
              "      <th>culture_&amp;_entertainment</th>\n",
              "      <td>5272</td>\n",
              "    </tr>\n",
              "    <tr>\n",
              "      <th>education</th>\n",
              "      <td>3313</td>\n",
              "    </tr>\n",
              "    <tr>\n",
              "      <th>employment</th>\n",
              "      <td>1099</td>\n",
              "    </tr>\n",
              "    <tr>\n",
              "      <th>environment</th>\n",
              "      <td>820</td>\n",
              "    </tr>\n",
              "    <tr>\n",
              "      <th>governance</th>\n",
              "      <td>9654</td>\n",
              "    </tr>\n",
              "    <tr>\n",
              "      <th>health</th>\n",
              "      <td>5158</td>\n",
              "    </tr>\n",
              "    <tr>\n",
              "      <th>industry</th>\n",
              "      <td>244</td>\n",
              "    </tr>\n",
              "    <tr>\n",
              "      <th>infrastructure_services</th>\n",
              "      <td>3145</td>\n",
              "    </tr>\n",
              "    <tr>\n",
              "      <th>livelihood</th>\n",
              "      <td>676</td>\n",
              "    </tr>\n",
              "    <tr>\n",
              "      <th>local_news</th>\n",
              "      <td>4909</td>\n",
              "    </tr>\n",
              "    <tr>\n",
              "      <th>migration</th>\n",
              "      <td>195</td>\n",
              "    </tr>\n",
              "    <tr>\n",
              "      <th>nan</th>\n",
              "      <td>184</td>\n",
              "    </tr>\n",
              "    <tr>\n",
              "      <th>prices_inequality</th>\n",
              "      <td>1085</td>\n",
              "    </tr>\n",
              "    <tr>\n",
              "      <th>social_issues</th>\n",
              "      <td>572</td>\n",
              "    </tr>\n",
              "  </tbody>\n",
              "</table>\n",
              "</div>"
            ],
            "text/plain": [
              "                            0\n",
              "                            6\n",
              "agriculture              1854\n",
              "community_groups           91\n",
              "consumer_issues           289\n",
              "culture_&_entertainment  5272\n",
              "education                3313\n",
              "employment               1099\n",
              "environment               820\n",
              "governance               9654\n",
              "health                   5158\n",
              "industry                  244\n",
              "infrastructure_services  3145\n",
              "livelihood                676\n",
              "local_news               4909\n",
              "migration                 195\n",
              "nan                       184\n",
              "prices_inequality        1085\n",
              "social_issues             572"
            ]
          },
          "metadata": {
            "tags": []
          },
          "execution_count": 20
        }
      ]
    },
    {
      "cell_type": "code",
      "metadata": {
        "colab": {
          "base_uri": "https://localhost:8080/",
          "height": 398
        },
        "id": "zzeihQV62x-X",
        "outputId": "a1a5f278-da87-4581-b897-1f4ad92b6179"
      },
      "source": [
        "count.plot.bar()"
      ],
      "execution_count": null,
      "outputs": [
        {
          "output_type": "execute_result",
          "data": {
            "text/plain": [
              "<matplotlib.axes._subplots.AxesSubplot at 0x7f0f4069a6a0>"
            ]
          },
          "metadata": {
            "tags": []
          },
          "execution_count": 21
        },
        {
          "output_type": "display_data",
          "data": {
            "image/png": "[encoded data removed]",
            "text/plain": [
              "<Figure size 432x288 with 1 Axes>"
            ]
          },
          "metadata": {
            "tags": [],
            "needs_background": "light"
          }
        }
      ]
    },
    {
      "cell_type": "code",
      "metadata": {
        "colab": {
          "base_uri": "https://localhost:8080/",
          "height": 983
        },
        "id": "dliQ6uHDLFcQ",
        "outputId": "33ef459a-6735-434c-94c7-d25d82abc57e"
      },
      "source": [
        "df"
      ],
      "execution_count": null,
      "outputs": [
        {
          "output_type": "execute_result",
          "data": {
            "text/html": [
              "<div>\n",
              "<style scoped>\n",
              "    .dataframe tbody tr th:only-of-type {\n",
              "        vertical-align: middle;\n",
              "    }\n",
              "\n",
              "    .dataframe tbody tr th {\n",
              "        vertical-align: top;\n",
              "    }\n",
              "\n",
              "    .dataframe thead th {\n",
              "        text-align: right;\n",
              "    }\n",
              "</style>\n",
              "<table border=\"1\" class=\"dataframe\">\n",
              "  <thead>\n",
              "    <tr style=\"text-align: right;\">\n",
              "      <th></th>\n",
              "      <th>sentence</th>\n",
              "      <th>label</th>\n",
              "      <th></th>\n",
              "      <th>agriculture</th>\n",
              "      <th>community_groups</th>\n",
              "      <th>consumer_issues</th>\n",
              "      <th>culture_&amp;_entertainment</th>\n",
              "      <th>education</th>\n",
              "      <th>employment</th>\n",
              "      <th>environment</th>\n",
              "      <th>governance</th>\n",
              "      <th>health</th>\n",
              "      <th>industry</th>\n",
              "      <th>infrastructure_services</th>\n",
              "      <th>livelihood</th>\n",
              "      <th>local_news</th>\n",
              "      <th>migration</th>\n",
              "      <th>nan</th>\n",
              "      <th>prices_inequality</th>\n",
              "      <th>social_issues</th>\n",
              "    </tr>\n",
              "  </thead>\n",
              "  <tbody>\n",
              "    <tr>\n",
              "      <th>1</th>\n",
              "      <td>$10 कीमत वाली मोबाइल वाली से पूरे बिहार में आज...</td>\n",
              "      <td>employment, governance, governance,</td>\n",
              "      <td>0</td>\n",
              "      <td>0</td>\n",
              "      <td>0</td>\n",
              "      <td>0</td>\n",
              "      <td>0</td>\n",
              "      <td>0</td>\n",
              "      <td>1</td>\n",
              "      <td>0</td>\n",
              "      <td>1</td>\n",
              "      <td>0</td>\n",
              "      <td>0</td>\n",
              "      <td>0</td>\n",
              "      <td>0</td>\n",
              "      <td>0</td>\n",
              "      <td>0</td>\n",
              "      <td>0</td>\n",
              "      <td>0</td>\n",
              "      <td>0</td>\n",
              "    </tr>\n",
              "    <tr>\n",
              "      <th>2</th>\n",
              "      <td>* * *</td>\n",
              "      <td>local_news,</td>\n",
              "      <td>0</td>\n",
              "      <td>0</td>\n",
              "      <td>0</td>\n",
              "      <td>0</td>\n",
              "      <td>0</td>\n",
              "      <td>0</td>\n",
              "      <td>0</td>\n",
              "      <td>0</td>\n",
              "      <td>0</td>\n",
              "      <td>0</td>\n",
              "      <td>0</td>\n",
              "      <td>0</td>\n",
              "      <td>0</td>\n",
              "      <td>1</td>\n",
              "      <td>0</td>\n",
              "      <td>0</td>\n",
              "      <td>0</td>\n",
              "      <td>0</td>\n",
              "    </tr>\n",
              "    <tr>\n",
              "      <th>3</th>\n",
              "      <td>* * * * * * * * *</td>\n",
              "      <td>livelihood, social_issues,</td>\n",
              "      <td>0</td>\n",
              "      <td>0</td>\n",
              "      <td>0</td>\n",
              "      <td>0</td>\n",
              "      <td>0</td>\n",
              "      <td>0</td>\n",
              "      <td>0</td>\n",
              "      <td>0</td>\n",
              "      <td>0</td>\n",
              "      <td>0</td>\n",
              "      <td>0</td>\n",
              "      <td>0</td>\n",
              "      <td>1</td>\n",
              "      <td>0</td>\n",
              "      <td>0</td>\n",
              "      <td>0</td>\n",
              "      <td>0</td>\n",
              "      <td>1</td>\n",
              "    </tr>\n",
              "    <tr>\n",
              "      <th>4</th>\n",
              "      <td>* चमारी के बोल रहे गाना गा रहे हैं मैं जिस दिन...</td>\n",
              "      <td>culture_&amp;_entertainment</td>\n",
              "      <td>0</td>\n",
              "      <td>0</td>\n",
              "      <td>0</td>\n",
              "      <td>0</td>\n",
              "      <td>1</td>\n",
              "      <td>0</td>\n",
              "      <td>0</td>\n",
              "      <td>0</td>\n",
              "      <td>0</td>\n",
              "      <td>0</td>\n",
              "      <td>0</td>\n",
              "      <td>0</td>\n",
              "      <td>0</td>\n",
              "      <td>0</td>\n",
              "      <td>0</td>\n",
              "      <td>0</td>\n",
              "      <td>0</td>\n",
              "      <td>0</td>\n",
              "    </tr>\n",
              "    <tr>\n",
              "      <th>5</th>\n",
              "      <td>1 किलोमीटर आगे मत सेंड कर रही हूं यहां पर इंजी...</td>\n",
              "      <td>infrastructure_services, education,</td>\n",
              "      <td>0</td>\n",
              "      <td>0</td>\n",
              "      <td>0</td>\n",
              "      <td>0</td>\n",
              "      <td>0</td>\n",
              "      <td>1</td>\n",
              "      <td>0</td>\n",
              "      <td>0</td>\n",
              "      <td>0</td>\n",
              "      <td>0</td>\n",
              "      <td>0</td>\n",
              "      <td>1</td>\n",
              "      <td>0</td>\n",
              "      <td>0</td>\n",
              "      <td>0</td>\n",
              "      <td>0</td>\n",
              "      <td>0</td>\n",
              "      <td>0</td>\n",
              "    </tr>\n",
              "    <tr>\n",
              "      <th>...</th>\n",
              "      <td>...</td>\n",
              "      <td>...</td>\n",
              "      <td>...</td>\n",
              "      <td>...</td>\n",
              "      <td>...</td>\n",
              "      <td>...</td>\n",
              "      <td>...</td>\n",
              "      <td>...</td>\n",
              "      <td>...</td>\n",
              "      <td>...</td>\n",
              "      <td>...</td>\n",
              "      <td>...</td>\n",
              "      <td>...</td>\n",
              "      <td>...</td>\n",
              "      <td>...</td>\n",
              "      <td>...</td>\n",
              "      <td>...</td>\n",
              "      <td>...</td>\n",
              "      <td>...</td>\n",
              "      <td>...</td>\n",
              "    </tr>\n",
              "    <tr>\n",
              "      <th>22423</th>\n",
              "      <td>होली होली होली  होली बगीचे में घूमने का मजा ही...</td>\n",
              "      <td>culture_&amp;_entertainment</td>\n",
              "      <td>0</td>\n",
              "      <td>0</td>\n",
              "      <td>0</td>\n",
              "      <td>0</td>\n",
              "      <td>1</td>\n",
              "      <td>0</td>\n",
              "      <td>0</td>\n",
              "      <td>0</td>\n",
              "      <td>0</td>\n",
              "      <td>0</td>\n",
              "      <td>0</td>\n",
              "      <td>0</td>\n",
              "      <td>0</td>\n",
              "      <td>0</td>\n",
              "      <td>0</td>\n",
              "      <td>0</td>\n",
              "      <td>0</td>\n",
              "      <td>0</td>\n",
              "    </tr>\n",
              "    <tr>\n",
              "      <th>22424</th>\n",
              "      <td>होली होली होली  होली रे होली क्यों नहीं आ सकती...</td>\n",
              "      <td>culture_&amp;_entertainment</td>\n",
              "      <td>0</td>\n",
              "      <td>0</td>\n",
              "      <td>0</td>\n",
              "      <td>0</td>\n",
              "      <td>1</td>\n",
              "      <td>0</td>\n",
              "      <td>0</td>\n",
              "      <td>0</td>\n",
              "      <td>0</td>\n",
              "      <td>0</td>\n",
              "      <td>0</td>\n",
              "      <td>0</td>\n",
              "      <td>0</td>\n",
              "      <td>0</td>\n",
              "      <td>0</td>\n",
              "      <td>0</td>\n",
              "      <td>0</td>\n",
              "      <td>0</td>\n",
              "    </tr>\n",
              "    <tr>\n",
              "      <th>22425</th>\n",
              "      <td>हौंडा यूनिकॉर्न कोरिया और जल्दी रिकॉर्डिंग भेज...</td>\n",
              "      <td>culture_&amp;_entertainment,</td>\n",
              "      <td>0</td>\n",
              "      <td>0</td>\n",
              "      <td>0</td>\n",
              "      <td>0</td>\n",
              "      <td>1</td>\n",
              "      <td>0</td>\n",
              "      <td>0</td>\n",
              "      <td>0</td>\n",
              "      <td>0</td>\n",
              "      <td>0</td>\n",
              "      <td>0</td>\n",
              "      <td>0</td>\n",
              "      <td>0</td>\n",
              "      <td>0</td>\n",
              "      <td>0</td>\n",
              "      <td>0</td>\n",
              "      <td>0</td>\n",
              "      <td>0</td>\n",
              "    </tr>\n",
              "    <tr>\n",
              "      <th>22426</th>\n",
              "      <td>₹1 तक की कहानियां सुना रहे हैं मुझे बहुत अच्छा...</td>\n",
              "      <td>culture_&amp;_entertainment,</td>\n",
              "      <td>0</td>\n",
              "      <td>0</td>\n",
              "      <td>0</td>\n",
              "      <td>0</td>\n",
              "      <td>1</td>\n",
              "      <td>0</td>\n",
              "      <td>0</td>\n",
              "      <td>0</td>\n",
              "      <td>0</td>\n",
              "      <td>0</td>\n",
              "      <td>0</td>\n",
              "      <td>0</td>\n",
              "      <td>0</td>\n",
              "      <td>0</td>\n",
              "      <td>0</td>\n",
              "      <td>0</td>\n",
              "      <td>0</td>\n",
              "      <td>0</td>\n",
              "    </tr>\n",
              "    <tr>\n",
              "      <th>22427</th>\n",
              "      <td>₹12 में करा देंगे अब ₹200000 का बीमा किया दोस्...</td>\n",
              "      <td>governance, consumer_issues,</td>\n",
              "      <td>0</td>\n",
              "      <td>0</td>\n",
              "      <td>0</td>\n",
              "      <td>1</td>\n",
              "      <td>0</td>\n",
              "      <td>0</td>\n",
              "      <td>0</td>\n",
              "      <td>0</td>\n",
              "      <td>1</td>\n",
              "      <td>0</td>\n",
              "      <td>0</td>\n",
              "      <td>0</td>\n",
              "      <td>0</td>\n",
              "      <td>0</td>\n",
              "      <td>0</td>\n",
              "      <td>0</td>\n",
              "      <td>0</td>\n",
              "      <td>0</td>\n",
              "    </tr>\n",
              "  </tbody>\n",
              "</table>\n",
              "<p>22427 rows × 20 columns</p>\n",
              "</div>"
            ],
            "text/plain": [
              "                                                sentence  ... social_issues\n",
              "1      $10 कीमत वाली मोबाइल वाली से पूरे बिहार में आज...  ...             0\n",
              "2                                                 * * *   ...             0\n",
              "3                                     * * * * * * * * *   ...             1\n",
              "4      * चमारी के बोल रहे गाना गा रहे हैं मैं जिस दिन...  ...             0\n",
              "5      1 किलोमीटर आगे मत सेंड कर रही हूं यहां पर इंजी...  ...             0\n",
              "...                                                  ...  ...           ...\n",
              "22423  होली होली होली  होली बगीचे में घूमने का मजा ही...  ...             0\n",
              "22424  होली होली होली  होली रे होली क्यों नहीं आ सकती...  ...             0\n",
              "22425  हौंडा यूनिकॉर्न कोरिया और जल्दी रिकॉर्डिंग भेज...  ...             0\n",
              "22426  ₹1 तक की कहानियां सुना रहे हैं मुझे बहुत अच्छा...  ...             0\n",
              "22427  ₹12 में करा देंगे अब ₹200000 का बीमा किया दोस्...  ...             0\n",
              "\n",
              "[22427 rows x 20 columns]"
            ]
          },
          "metadata": {
            "tags": []
          },
          "execution_count": 22
        }
      ]
    },
    {
      "cell_type": "code",
      "metadata": {
        "id": "7DUtKfmiLSsf"
      },
      "source": [
        "df.to_csv(\"/content/drive/MyDrive/Colab Notebooks (1)/cod/data/complete_data.csv\")"
      ],
      "execution_count": null,
      "outputs": []
    },
    {
      "cell_type": "code",
      "metadata": {
        "colab": {
          "base_uri": "https://localhost:8080/"
        },
        "id": "V72gNtQkhrgl",
        "outputId": "5d284e6c-bc00-4596-ce4a-459dedd7c9d0"
      },
      "source": [
        "!git clone https://github.com/facebookresearch/fastText.git"
      ],
      "execution_count": null,
      "outputs": [
        {
          "output_type": "stream",
          "text": [
            "Cloning into 'fastText'...\n",
            "remote: Enumerating objects: 3854, done.\u001b[K\n",
            "remote: Total 3854 (delta 0), reused 0 (delta 0), pack-reused 3854\u001b[K\n",
            "Receiving objects: 100% (3854/3854), 8.22 MiB | 29.87 MiB/s, done.\n",
            "Resolving deltas: 100% (2417/2417), done.\n"
          ],
          "name": "stdout"
        }
      ]
    },
    {
      "cell_type": "code",
      "metadata": {
        "colab": {
          "base_uri": "https://localhost:8080/"
        },
        "id": "bJl_3SATEl77",
        "outputId": "16863027-7914-49ce-b16a-7a710dc580af"
      },
      "source": [
        "%cd fastText\n",
        "!pip3 install ."
      ],
      "execution_count": null,
      "outputs": [
        {
          "output_type": "stream",
          "text": [
            "/content/fastText\n",
            "Processing /content/fastText\n",
            "Requirement already satisfied: pybind11>=2.2 in /usr/local/lib/python3.6/dist-packages (from fasttext==0.9.2) (2.6.1)\n",
            "Requirement already satisfied: setuptools>=0.7.0 in /usr/local/lib/python3.6/dist-packages (from fasttext==0.9.2) (50.3.2)\n",
            "Requirement already satisfied: numpy in /usr/local/lib/python3.6/dist-packages (from fasttext==0.9.2) (1.18.5)\n",
            "Building wheels for collected packages: fasttext\n",
            "  Building wheel for fasttext (setup.py) ... \u001b[?25l\u001b[?25hdone\n",
            "  Created wheel for fasttext: filename=fasttext-0.9.2-cp36-cp36m-linux_x86_64.whl size=3030213 sha256=5a456c6e7925b44e64ecc8575c81867c995bddbaaed8542094f06e473d4512d8\n",
            "  Stored in directory: /tmp/pip-ephem-wheel-cache-vr0d9192/wheels/a1/9f/52/696ce6c5c46325e840c76614ee5051458c0df10306987e7443\n",
            "Successfully built fasttext\n",
            "Installing collected packages: fasttext\n",
            "Successfully installed fasttext-0.9.2\n"
          ],
          "name": "stdout"
        }
      ]
    },
    {
      "cell_type": "code",
      "metadata": {
        "id": "EXsiaLIacjQ6"
      },
      "source": [
        "import fasttext.util\n",
        "import fasttext"
      ],
      "execution_count": null,
      "outputs": []
    },
    {
      "cell_type": "code",
      "metadata": {
        "colab": {
          "base_uri": "https://localhost:8080/"
        },
        "id": "qrd3iDJ5doa6",
        "outputId": "591c9d1c-0309-4b0c-980f-2b6b8a636ce3"
      },
      "source": [
        "# load embeddings into memory\n",
        "path_pre_trained = \"/content/drive/My Drive/Colab Notebooks (1)/cod/cc.hi.300.bin\"\n",
        "print(\"Loading embeddings\")\n",
        "ft = fasttext.load_model(path_pre_trained)"
      ],
      "execution_count": null,
      "outputs": [
        {
          "output_type": "stream",
          "text": [
            "Loading embeddings\n"
          ],
          "name": "stdout"
        }
      ]
    },
    {
      "cell_type": "code",
      "metadata": {
        "colab": {
          "base_uri": "https://localhost:8080/"
        },
        "id": "vEQiyqLyCcJZ",
        "outputId": "60b8cd1d-65e1-40e4-86a2-a318cedcfc97"
      },
      "source": [
        "ft.get_nearest_neighbors(b'\\xe0\\xa4\\x95\\xe0\\xa4\\xb0\\xe0\\xa4\\xa8\\xe0\\xa5\\x87')"
      ],
      "execution_count": null,
      "outputs": [
        {
          "output_type": "execute_result",
          "data": {
            "text/plain": [
              "[(0.7406541705131531, 'लिए'),\n",
              " (0.7016867995262146, 'कराने'),\n",
              " (0.6950420141220093, 'करना'),\n",
              " (0.6947993040084839, 'होने'),\n",
              " (0.6805431246757507, 'करके'),\n",
              " (0.6702057123184204, 'करवाने'),\n",
              " (0.6648045182228088, 'देने'),\n",
              " (0.6638022065162659, 'करनेे'),\n",
              " (0.6585147976875305, 'करते'),\n",
              " (0.6459359526634216, 'करता')]"
            ]
          },
          "metadata": {
            "tags": []
          },
          "execution_count": 27
        }
      ]
    },
    {
      "cell_type": "code",
      "metadata": {
        "colab": {
          "base_uri": "https://localhost:8080/",
          "height": 35
        },
        "id": "DPKYpc5UCp0j",
        "outputId": "90be346e-490f-47a2-cc1a-92d3af9290db"
      },
      "source": [
        "b'\\xe0\\xa4\\x95\\xe0\\xa4\\xb0\\xe0\\xa4\\xa8\\xe0\\xa5\\x87'.decode()"
      ],
      "execution_count": null,
      "outputs": [
        {
          "output_type": "execute_result",
          "data": {
            "application/vnd.google.colaboratory.intrinsic+json": {
              "type": "string"
            },
            "text/plain": [
              "'करने'"
            ]
          },
          "metadata": {
            "tags": []
          },
          "execution_count": 28
        }
      ]
    },
    {
      "cell_type": "code",
      "metadata": {
        "id": "6TnoRsyOmWYt"
      },
      "source": [
        "from sklearn.metrics import confusion_matrix, accuracy_score, precision_score, recall_score, f1_score"
      ],
      "execution_count": null,
      "outputs": []
    },
    {
      "cell_type": "code",
      "metadata": {
        "id": "hBn0GwVUs8UU"
      },
      "source": [
        "def sentence_to_vec(s, embedding_dict, stop_words, tokenizer):\n",
        "    \"\"\"\n",
        "    Given a sentence and other information,\n",
        "    this function returns embedding for the whole sentence\n",
        "    :param s: sentence, string\n",
        "    :param embedding_dict: dictionary word:vector\n",
        "    :param stop_words: list of stop words, if any\n",
        "    :param tokenizer: a tokenization function\n",
        "    \"\"\"\n",
        "    # # convert sentence to string and lowercase it\n",
        "    # words = str(s).lower()\n",
        "    \n",
        "    # tokenize the sentence\n",
        "    words = tokenizer(s)\n",
        "    \n",
        "    # remove stop word tokens\n",
        "    words = [w for w in words if not w in stop_words]\n",
        "    \n",
        "    # keep only alpha-numeric tokens\n",
        "    # words = [w for w in words if w.isalpha()]\n",
        "    \n",
        "    # initialize empty list to store embeddings\n",
        "    M = []\n",
        "    for w in words:\n",
        "    # for evert word, fetch the embedding from\n",
        "    # the dictionary and append to list of\n",
        "    # embeddings\n",
        "        emb = ft.get_word_vector(w.encode('utf8'))\n",
        "        M.append(emb)\n",
        "            \n",
        "    # if we dont have any vectors, return zeros\n",
        "    if len(M) == 0:\n",
        "        return np.zeros(300)\n",
        "    \n",
        "    # convert list of embeddings to array\n",
        "    M = np.array(M)\n",
        "    \n",
        "    # calculate sum over axis=0\n",
        "    v = M.sum(axis=0)\n",
        "    \n",
        "    # return normalized vector\n",
        "    return v / np.sqrt((v ** 2).sum())\n",
        "\n",
        "\n",
        "\n",
        "\n",
        "# create sentence embeddings\n",
        "def create_embeddings(sentences):\n",
        "    print(\"Creating sentence vectors\")\n",
        "    vectors = []\n",
        "    for review in sentences:\n",
        "        vectors.append(\n",
        "            sentence_to_vec(\n",
        "                s = review,\n",
        "                embedding_dict = ft,\n",
        "                stop_words = stopwords,\n",
        "                tokenizer = word_tokenize\n",
        "            )\n",
        "        )\n",
        "    return vectors\n",
        "\n",
        "\n",
        "\n",
        "\n",
        "def train_fasttext_SVM(df, cls, k=5):\n",
        "\n",
        "\n",
        "    kf = KFold(n_splits=k)\n",
        "    kf.get_n_splits(df)\n",
        "\n",
        "    X = np.array(create_embeddings(df['sentence']))\n",
        "    print(X.shape)\n",
        "\n",
        "    acc = []\n",
        "    i = 0\n",
        "\n",
        "    YPred = np.array([])\n",
        "    YTest = np.array([])\n",
        "\n",
        "    row = []\n",
        "\n",
        "    for train_index, test_index in kf.split(df):\n",
        "\n",
        "        X_train, X_test = X[train_index], X[test_index]\n",
        "        y_train, y_test = df[cls][train_index], df[cls][test_index]\n",
        "\n",
        "        xtrain = X_train\n",
        "        xtest = X_test\n",
        "\n",
        "        # print(type(xtrain))\n",
        "        # print(xtrain)\n",
        "\n",
        "        # initialize logistic regression model\n",
        "        model = SVC(C=10,kernel='rbf')\n",
        "\n",
        "        #scaling\n",
        "        scaler = StandardScaler()\n",
        "        scaler.fit(xtrain)\n",
        "        xtrainT = scaler.transform(xtrain)\n",
        "        xtestT = scaler.transform(xtest)\n",
        "\n",
        "        model.fit(xtrainT, y_train)\n",
        "\n",
        "        # make predictions on test data\n",
        "        # threshold for predictions is 0.5\n",
        "        preds = model.predict(xtestT)\n",
        "        # calculate accuracy\n",
        "        accuracy = metrics.accuracy_score(y_test, preds)\n",
        "        acc.append(accuracy)\n",
        "\n",
        "        # print(type(y_test), type(preds), preds.shape)\n",
        "        # print(y_test.to_numpy().shape)\n",
        "\n",
        "        YTest = np.concatenate([YTest,y_test.to_numpy()])\n",
        "        YPred = np.concatenate([YPred,preds])\n",
        "\n",
        "        # print(f\"Fold: {i}\")\n",
        "        # print(f\"Accuracy = {accuracy}\")\n",
        "        i+=1\n",
        "\n",
        "        # print(xtest)\n",
        "        # print(count_vec)\n",
        "        # break\n",
        "\n",
        "    # print(type(YTest))\n",
        "    # print(YTest.shape)\n",
        "    # print(\"Accuracy for {}: {}\".format(cls, sum(acc)/len(acc)))\n",
        "    print(\"Class: {}\".format(cls))\n",
        "    print(\"Accuracy score: {}\".format(accuracy_score(YTest,YPred)))\n",
        "    print(\"Precision score: {}\".format(precision_score(YTest,YPred)))\n",
        "    print(\"Recall score: {}\".format(recall_score(YTest,YPred)))\n",
        "    print(\"F1 score: {}\".format(f1_score(YTest,YPred)))\n",
        "    print(\"Confusion Matrix: {}\".format(confusion_matrix(YTest,YPred)))\n",
        "    print(\"\")\n",
        "\n",
        "    row.append(accuracy_score(YTest,YPred))\n",
        "    row.append(confusion_matrix(YTest,YPred))\n",
        "    row.append(precision_score(YTest,YPred))\n",
        "    row.append(recall_score(YTest,YPred))\n",
        "    row.append(f1_score(YTest,YPred))\n",
        "    \n",
        "    return row\n",
        "\n",
        "\n",
        "def train_all_classes(df,classes):\n",
        "\n",
        "    rows = []\n",
        "\n",
        "    for cls in classes:\n",
        "        df_s = df[['sentence','label',cls]]\n",
        "        df_s1 = df_s[df_s[cls]==1]\n",
        "\n",
        "        df_s0 = df_s[df_s[cls]==0]\n",
        "        df_s0 = df_s0.sample(frac=1)\n",
        "        df_s0 = df_s0.iloc[:len(df_s1)]\n",
        "\n",
        "        df_sData = df_s1.append(df_s0)\n",
        "        df_sData = df_sData.reset_index()\n",
        "\n",
        "        r = train_fasttext_SVM(df_sData,cls)\n",
        "        rows.append(r)\n",
        "    \n",
        "    newdf = pd.DataFrame(rows)\n",
        "    return newdf"
      ],
      "execution_count": null,
      "outputs": []
    },
    {
      "cell_type": "code",
      "metadata": {
        "colab": {
          "background_save": true,
          "base_uri": "https://localhost:8080/"
        },
        "id": "SIiBNg9xtxKR",
        "outputId": "8c67eaf5-9854-43ef-df39-138729447d46"
      },
      "source": [
        "newdf = train_all_classes(df,multilabel_binarizer.classes_)"
      ],
      "execution_count": null,
      "outputs": [
        {
          "output_type": "stream",
          "text": [
            "Creating sentence vectors\n",
            "(12, 300)\n",
            "Class: \n",
            "Accuracy score: 0.25\n",
            "Precision score: 0.0\n",
            "Recall score: 0.0\n",
            "F1 score: 0.0\n",
            "Confusion Matrix: [[3 3]\n",
            " [6 0]]\n",
            "\n",
            "Creating sentence vectors\n",
            "(3708, 300)\n",
            "Class: agriculture\n",
            "Accuracy score: 0.7702265372168284\n",
            "Precision score: 0.8\n",
            "Recall score: 0.7206040992448759\n",
            "F1 score: 0.7582292849035187\n",
            "Confusion Matrix: [[1520  334]\n",
            " [ 518 1336]]\n",
            "\n",
            "Creating sentence vectors\n",
            "(182, 300)\n",
            "Class: community_groups\n",
            "Accuracy score: 0.5274725274725275\n",
            "Precision score: 0.5287356321839081\n",
            "Recall score: 0.5054945054945055\n",
            "F1 score: 0.5168539325842697\n",
            "Confusion Matrix: [[50 41]\n",
            " [45 46]]\n",
            "\n",
            "Creating sentence vectors\n",
            "(578, 300)\n",
            "Class: consumer_issues\n",
            "Accuracy score: 0.7629757785467128\n",
            "Precision score: 0.7695035460992907\n",
            "Recall score: 0.7508650519031141\n",
            "F1 score: 0.7600700525394045\n",
            "Confusion Matrix: [[224  65]\n",
            " [ 72 217]]\n",
            "\n",
            "Creating sentence vectors\n",
            "(10544, 300)\n",
            "Class: culture_&_entertainment\n",
            "Accuracy score: 0.7334028831562974\n",
            "Precision score: 0.7460507898420315\n",
            "Recall score: 0.707701062215478\n",
            "F1 score: 0.7263700963691231\n",
            "Confusion Matrix: [[4002 1270]\n",
            " [1541 3731]]\n",
            "\n",
            "Creating sentence vectors\n",
            "(6626, 300)\n",
            "Class: education\n",
            "Accuracy score: 0.6996679746453366\n",
            "Precision score: 0.7168141592920354\n",
            "Recall score: 0.6601267733172351\n",
            "F1 score: 0.6873035826524199\n",
            "Confusion Matrix: [[2449  864]\n",
            " [1126 2187]]\n",
            "\n",
            "Creating sentence vectors\n",
            "(2198, 300)\n",
            "Class: employment\n",
            "Accuracy score: 0.718835304822566\n",
            "Precision score: 0.7441624365482233\n",
            "Recall score: 0.6669699727024567\n",
            "F1 score: 0.7034548944337812\n",
            "Confusion Matrix: [[847 252]\n",
            " [366 733]]\n",
            "\n",
            "Creating sentence vectors\n",
            "(1640, 300)\n",
            "Class: environment\n",
            "Accuracy score: 0.7042682926829268\n",
            "Precision score: 0.7212681638044914\n",
            "Recall score: 0.6658536585365854\n",
            "F1 score: 0.6924540266328472\n",
            "Confusion Matrix: [[609 211]\n",
            " [274 546]]\n",
            "\n",
            "Creating sentence vectors\n",
            "(19308, 300)\n",
            "Class: governance\n",
            "Accuracy score: 0.5809509011808577\n",
            "Precision score: 0.586496956281129\n",
            "Recall score: 0.5488916511290657\n",
            "F1 score: 0.5670715394082081\n",
            "Confusion Matrix: [[5918 3736]\n",
            " [4355 5299]]\n",
            "\n",
            "Creating sentence vectors\n",
            "(10316, 300)\n",
            "Class: health\n",
            "Accuracy score: 0.6216556804963164\n",
            "Precision score: 0.6328604700402287\n",
            "Recall score: 0.5794881737107406\n",
            "F1 score: 0.6049994939783422\n",
            "Confusion Matrix: [[3424 1734]\n",
            " [2169 2989]]\n",
            "\n",
            "Creating sentence vectors\n",
            "(488, 300)\n",
            "Class: industry\n",
            "Accuracy score: 0.6782786885245902\n",
            "Precision score: 0.6968325791855203\n",
            "Recall score: 0.6311475409836066\n",
            "F1 score: 0.6623655913978495\n",
            "Confusion Matrix: [[177  67]\n",
            " [ 90 154]]\n",
            "\n",
            "Creating sentence vectors\n",
            "(6290, 300)\n",
            "Class: infrastructure_services\n",
            "Accuracy score: 0.6895071542130365\n",
            "Precision score: 0.7038303693570451\n",
            "Recall score: 0.6543720190779014\n",
            "F1 score: 0.6782006920415226\n",
            "Confusion Matrix: [[2279  866]\n",
            " [1087 2058]]\n",
            "\n",
            "Creating sentence vectors\n",
            "(1352, 300)\n",
            "Class: livelihood\n",
            "Accuracy score: 0.6272189349112426\n",
            "Precision score: 0.641914191419142\n",
            "Recall score: 0.5754437869822485\n",
            "F1 score: 0.6068642745709829\n",
            "Confusion Matrix: [[459 217]\n",
            " [287 389]]\n",
            "\n",
            "Creating sentence vectors\n",
            "(9818, 300)\n",
            "Class: local_news\n",
            "Accuracy score: 0.6002240782236709\n",
            "Precision score: 0.6047700170357752\n",
            "Recall score: 0.5785292320228153\n",
            "F1 score: 0.5913586673607496\n",
            "Confusion Matrix: [[3053 1856]\n",
            " [2069 2840]]\n",
            "\n",
            "Creating sentence vectors\n",
            "(390, 300)\n",
            "Class: migration\n",
            "Accuracy score: 0.7794871794871795\n",
            "Precision score: 0.7945945945945946\n",
            "Recall score: 0.7538461538461538\n",
            "F1 score: 0.7736842105263159\n",
            "Confusion Matrix: [[157  38]\n",
            " [ 48 147]]\n",
            "\n",
            "Creating sentence vectors\n",
            "(368, 300)\n",
            "Class: nan\n",
            "Accuracy score: 0.5108695652173914\n",
            "Precision score: 0.5113636363636364\n",
            "Recall score: 0.4891304347826087\n",
            "F1 score: 0.5\n",
            "Confusion Matrix: [[98 86]\n",
            " [94 90]]\n",
            "\n",
            "Creating sentence vectors\n",
            "(2170, 300)\n",
            "Class: prices_inequality\n",
            "Accuracy score: 0.6557603686635944\n",
            "Precision score: 0.6717479674796748\n",
            "Recall score: 0.6092165898617512\n",
            "F1 score: 0.6389560173997101\n",
            "Confusion Matrix: [[762 323]\n",
            " [424 661]]\n",
            "\n",
            "Creating sentence vectors\n",
            "(1144, 300)\n",
            "Class: social_issues\n",
            "Accuracy score: 0.6608391608391608\n",
            "Precision score: 0.6776061776061776\n",
            "Recall score: 0.6136363636363636\n",
            "F1 score: 0.6440366972477064\n",
            "Confusion Matrix: [[405 167]\n",
            " [221 351]]\n",
            "\n"
          ],
          "name": "stdout"
        }
      ]
    },
    {
      "cell_type": "code",
      "metadata": {
        "colab": {
          "base_uri": "https://localhost:8080/"
        },
        "id": "HCGiezGW27EO",
        "outputId": "a5c43094-2626-4b96-ba84-12f82c690547"
      },
      "source": [
        "print(newdf)"
      ],
      "execution_count": null,
      "outputs": [
        {
          "output_type": "stream",
          "text": [
            "           0                             1         2         3         4\n",
            "0   0.772404      [[575, 128], [192, 511]]  0.799687  0.726885  0.761550\n",
            "1   0.556604          [[31, 22], [25, 28]]  0.560000  0.528302  0.543689\n",
            "2   0.688406         [[101, 37], [49, 89]]  0.706349  0.644928  0.674242\n",
            "3   0.771014    [[1926, 489], [617, 1798]]  0.786183  0.744513  0.764781\n",
            "4   0.681643      [[749, 286], [373, 662]]  0.698312  0.639614  0.667675\n",
            "5   0.710526       [[313, 86], [145, 254]]  0.747059  0.636591  0.687415\n",
            "6   0.649091       [[182, 93], [100, 175]]  0.652985  0.636364  0.644567\n",
            "7   0.586802  [[1634, 1033], [1171, 1496]]  0.591538  0.560930  0.575828\n",
            "8   0.650052    [[1330, 606], [749, 1187]]  0.662019  0.613120  0.636632\n",
            "9   0.767956        [[147, 34], [50, 131]]  0.793939  0.723757  0.757225\n",
            "10  0.707965      [[654, 250], [278, 626]]  0.714612  0.692478  0.703371\n",
            "11  0.523622          [[75, 52], [69, 58]]  0.527273  0.456693  0.489451\n",
            "12  0.589074      [[257, 164], [182, 239]]  0.593052  0.567696  0.580097\n",
            "13  0.724138          [[45, 13], [19, 39]]  0.750000  0.672414  0.709091\n",
            "14  0.637405          [[91, 40], [55, 76]]  0.655172  0.580153  0.615385\n",
            "15  0.615385          [[42, 23], [27, 38]]  0.622951  0.584615  0.603175\n"
          ],
          "name": "stdout"
        }
      ]
    },
    {
      "cell_type": "code",
      "metadata": {
        "id": "OWXGU_FBL7H6",
        "colab": {
          "base_uri": "https://localhost:8080/"
        },
        "outputId": "e7f523a2-cfa6-4645-cee1-a3fc3053d937"
      },
      "source": [
        "print(newdf)"
      ],
      "execution_count": null,
      "outputs": [
        {
          "output_type": "stream",
          "text": [
            "           0                             1         2         3         4\n",
            "0   0.250000              [[3, 3], [6, 0]]  0.000000  0.000000  0.000000\n",
            "1   0.770227    [[1520, 334], [518, 1336]]  0.800000  0.720604  0.758229\n",
            "2   0.527473          [[50, 41], [45, 46]]  0.528736  0.505495  0.516854\n",
            "3   0.762976        [[224, 65], [72, 217]]  0.769504  0.750865  0.760070\n",
            "4   0.733403  [[4002, 1270], [1541, 3731]]  0.746051  0.707701  0.726370\n",
            "5   0.699668   [[2449, 864], [1126, 2187]]  0.716814  0.660127  0.687304\n",
            "6   0.718835      [[847, 252], [366, 733]]  0.744162  0.666970  0.703455\n",
            "7   0.704268      [[609, 211], [274, 546]]  0.721268  0.665854  0.692454\n",
            "8   0.580951  [[5918, 3736], [4355, 5299]]  0.586497  0.548892  0.567072\n",
            "9   0.621656  [[3424, 1734], [2169, 2989]]  0.632860  0.579488  0.604999\n",
            "10  0.678279        [[177, 67], [90, 154]]  0.696833  0.631148  0.662366\n",
            "11  0.689507   [[2279, 866], [1087, 2058]]  0.703830  0.654372  0.678201\n",
            "12  0.627219      [[459, 217], [287, 389]]  0.641914  0.575444  0.606864\n",
            "13  0.600224  [[3053, 1856], [2069, 2840]]  0.604770  0.578529  0.591359\n",
            "14  0.779487        [[157, 38], [48, 147]]  0.794595  0.753846  0.773684\n",
            "15  0.510870          [[98, 86], [94, 90]]  0.511364  0.489130  0.500000\n",
            "16  0.655760      [[762, 323], [424, 661]]  0.671748  0.609217  0.638956\n",
            "17  0.660839      [[405, 167], [221, 351]]  0.677606  0.613636  0.644037\n"
          ],
          "name": "stdout"
        }
      ]
    },
    {
      "cell_type": "code",
      "metadata": {
        "colab": {
          "base_uri": "https://localhost:8080/",
          "height": 638
        },
        "id": "xTmXNpTy4Iwk",
        "outputId": "0aa5ff99-3b62-4f76-f1b4-16a72bd02d43"
      },
      "source": [
        "newdf['labels'] = multilabel_binarizer.classes_\n",
        "newdf = newdf.set_index('labels')\n",
        "newdf"
      ],
      "execution_count": null,
      "outputs": [
        {
          "output_type": "execute_result",
          "data": {
            "text/html": [
              "<div>\n",
              "<style scoped>\n",
              "    .dataframe tbody tr th:only-of-type {\n",
              "        vertical-align: middle;\n",
              "    }\n",
              "\n",
              "    .dataframe tbody tr th {\n",
              "        vertical-align: top;\n",
              "    }\n",
              "\n",
              "    .dataframe thead th {\n",
              "        text-align: right;\n",
              "    }\n",
              "</style>\n",
              "<table border=\"1\" class=\"dataframe\">\n",
              "  <thead>\n",
              "    <tr style=\"text-align: right;\">\n",
              "      <th></th>\n",
              "      <th>0</th>\n",
              "      <th>1</th>\n",
              "      <th>2</th>\n",
              "      <th>3</th>\n",
              "      <th>4</th>\n",
              "    </tr>\n",
              "    <tr>\n",
              "      <th>labels</th>\n",
              "      <th></th>\n",
              "      <th></th>\n",
              "      <th></th>\n",
              "      <th></th>\n",
              "      <th></th>\n",
              "    </tr>\n",
              "  </thead>\n",
              "  <tbody>\n",
              "    <tr>\n",
              "      <th></th>\n",
              "      <td>0.250000</td>\n",
              "      <td>[[3, 3], [6, 0]]</td>\n",
              "      <td>0.000000</td>\n",
              "      <td>0.000000</td>\n",
              "      <td>0.000000</td>\n",
              "    </tr>\n",
              "    <tr>\n",
              "      <th>agriculture</th>\n",
              "      <td>0.770227</td>\n",
              "      <td>[[1520, 334], [518, 1336]]</td>\n",
              "      <td>0.800000</td>\n",
              "      <td>0.720604</td>\n",
              "      <td>0.758229</td>\n",
              "    </tr>\n",
              "    <tr>\n",
              "      <th>community_groups</th>\n",
              "      <td>0.527473</td>\n",
              "      <td>[[50, 41], [45, 46]]</td>\n",
              "      <td>0.528736</td>\n",
              "      <td>0.505495</td>\n",
              "      <td>0.516854</td>\n",
              "    </tr>\n",
              "    <tr>\n",
              "      <th>consumer_issues</th>\n",
              "      <td>0.762976</td>\n",
              "      <td>[[224, 65], [72, 217]]</td>\n",
              "      <td>0.769504</td>\n",
              "      <td>0.750865</td>\n",
              "      <td>0.760070</td>\n",
              "    </tr>\n",
              "    <tr>\n",
              "      <th>culture_&amp;_entertainment</th>\n",
              "      <td>0.733403</td>\n",
              "      <td>[[4002, 1270], [1541, 3731]]</td>\n",
              "      <td>0.746051</td>\n",
              "      <td>0.707701</td>\n",
              "      <td>0.726370</td>\n",
              "    </tr>\n",
              "    <tr>\n",
              "      <th>education</th>\n",
              "      <td>0.699668</td>\n",
              "      <td>[[2449, 864], [1126, 2187]]</td>\n",
              "      <td>0.716814</td>\n",
              "      <td>0.660127</td>\n",
              "      <td>0.687304</td>\n",
              "    </tr>\n",
              "    <tr>\n",
              "      <th>employment</th>\n",
              "      <td>0.718835</td>\n",
              "      <td>[[847, 252], [366, 733]]</td>\n",
              "      <td>0.744162</td>\n",
              "      <td>0.666970</td>\n",
              "      <td>0.703455</td>\n",
              "    </tr>\n",
              "    <tr>\n",
              "      <th>environment</th>\n",
              "      <td>0.704268</td>\n",
              "      <td>[[609, 211], [274, 546]]</td>\n",
              "      <td>0.721268</td>\n",
              "      <td>0.665854</td>\n",
              "      <td>0.692454</td>\n",
              "    </tr>\n",
              "    <tr>\n",
              "      <th>governance</th>\n",
              "      <td>0.580951</td>\n",
              "      <td>[[5918, 3736], [4355, 5299]]</td>\n",
              "      <td>0.586497</td>\n",
              "      <td>0.548892</td>\n",
              "      <td>0.567072</td>\n",
              "    </tr>\n",
              "    <tr>\n",
              "      <th>health</th>\n",
              "      <td>0.621656</td>\n",
              "      <td>[[3424, 1734], [2169, 2989]]</td>\n",
              "      <td>0.632860</td>\n",
              "      <td>0.579488</td>\n",
              "      <td>0.604999</td>\n",
              "    </tr>\n",
              "    <tr>\n",
              "      <th>industry</th>\n",
              "      <td>0.678279</td>\n",
              "      <td>[[177, 67], [90, 154]]</td>\n",
              "      <td>0.696833</td>\n",
              "      <td>0.631148</td>\n",
              "      <td>0.662366</td>\n",
              "    </tr>\n",
              "    <tr>\n",
              "      <th>infrastructure_services</th>\n",
              "      <td>0.689507</td>\n",
              "      <td>[[2279, 866], [1087, 2058]]</td>\n",
              "      <td>0.703830</td>\n",
              "      <td>0.654372</td>\n",
              "      <td>0.678201</td>\n",
              "    </tr>\n",
              "    <tr>\n",
              "      <th>livelihood</th>\n",
              "      <td>0.627219</td>\n",
              "      <td>[[459, 217], [287, 389]]</td>\n",
              "      <td>0.641914</td>\n",
              "      <td>0.575444</td>\n",
              "      <td>0.606864</td>\n",
              "    </tr>\n",
              "    <tr>\n",
              "      <th>local_news</th>\n",
              "      <td>0.600224</td>\n",
              "      <td>[[3053, 1856], [2069, 2840]]</td>\n",
              "      <td>0.604770</td>\n",
              "      <td>0.578529</td>\n",
              "      <td>0.591359</td>\n",
              "    </tr>\n",
              "    <tr>\n",
              "      <th>migration</th>\n",
              "      <td>0.779487</td>\n",
              "      <td>[[157, 38], [48, 147]]</td>\n",
              "      <td>0.794595</td>\n",
              "      <td>0.753846</td>\n",
              "      <td>0.773684</td>\n",
              "    </tr>\n",
              "    <tr>\n",
              "      <th>nan</th>\n",
              "      <td>0.510870</td>\n",
              "      <td>[[98, 86], [94, 90]]</td>\n",
              "      <td>0.511364</td>\n",
              "      <td>0.489130</td>\n",
              "      <td>0.500000</td>\n",
              "    </tr>\n",
              "    <tr>\n",
              "      <th>prices_inequality</th>\n",
              "      <td>0.655760</td>\n",
              "      <td>[[762, 323], [424, 661]]</td>\n",
              "      <td>0.671748</td>\n",
              "      <td>0.609217</td>\n",
              "      <td>0.638956</td>\n",
              "    </tr>\n",
              "    <tr>\n",
              "      <th>social_issues</th>\n",
              "      <td>0.660839</td>\n",
              "      <td>[[405, 167], [221, 351]]</td>\n",
              "      <td>0.677606</td>\n",
              "      <td>0.613636</td>\n",
              "      <td>0.644037</td>\n",
              "    </tr>\n",
              "  </tbody>\n",
              "</table>\n",
              "</div>"
            ],
            "text/plain": [
              "                                0  ...         4\n",
              "labels                             ...          \n",
              "                         0.250000  ...  0.000000\n",
              "agriculture              0.770227  ...  0.758229\n",
              "community_groups         0.527473  ...  0.516854\n",
              "consumer_issues          0.762976  ...  0.760070\n",
              "culture_&_entertainment  0.733403  ...  0.726370\n",
              "education                0.699668  ...  0.687304\n",
              "employment               0.718835  ...  0.703455\n",
              "environment              0.704268  ...  0.692454\n",
              "governance               0.580951  ...  0.567072\n",
              "health                   0.621656  ...  0.604999\n",
              "industry                 0.678279  ...  0.662366\n",
              "infrastructure_services  0.689507  ...  0.678201\n",
              "livelihood               0.627219  ...  0.606864\n",
              "local_news               0.600224  ...  0.591359\n",
              "migration                0.779487  ...  0.773684\n",
              "nan                      0.510870  ...  0.500000\n",
              "prices_inequality        0.655760  ...  0.638956\n",
              "social_issues            0.660839  ...  0.644037\n",
              "\n",
              "[18 rows x 5 columns]"
            ]
          },
          "metadata": {
            "tags": []
          },
          "execution_count": 33
        }
      ]
    },
    {
      "cell_type": "code",
      "metadata": {
        "id": "PzMk1ls1WrW_"
      },
      "source": [
        "newdf.to_csv(\"/content/drive/MyDrive/Colab Notebooks (1)/cod/data/fasttext_res.csv\")"
      ],
      "execution_count": null,
      "outputs": []
    },
    {
      "cell_type": "code",
      "metadata": {
        "id": "2wCjDcJoLp1U"
      },
      "source": [
        "vocb = set([])\n",
        "\n",
        "def set_vocab(sentences):\n",
        "\tvocb.clear()\n",
        "\tsentences = list(sentences)\n",
        "\tfor line in sentences: \n",
        "    \t# print(line)\n",
        "\t\tword_arr = line.split(' ')\n",
        "\t\tfor word in word_arr:\n",
        "\t\t\tvocb.add(word.encode('utf8'))\n",
        "\t\t\t# print(word.encode('utf8'))\n",
        "\t\t\t# break\n",
        "\t\t# break\n",
        "\n",
        "\n",
        "def count_fit(sentences):\n",
        "\tset_vocab(sentences)\n",
        "\n",
        "def count_transform(sentences):\n",
        "\tdict_vocab = {}\n",
        "\tfor i,val in enumerate(vocb):\n",
        "\t\tdict_vocab[val] = i\n",
        "\tsentences = list(sentences)\n",
        "\t\n",
        "\trows = []\n",
        "\n",
        "\tfor line in sentences:\n",
        "\t\trow_tmp = [0]*len(vocb)\n",
        "\t\tfor word in line:\n",
        "\t\t\ttry:\n",
        "\t\t\t\trow_tmp[dict_vocab[word]] = row_tmp[dict_vocab[word]]+1\n",
        "\t\t\texcept:\n",
        "\t\t\t\tcontinue\n",
        "\n",
        "\t\trows.append(row_tmp)\n",
        "\n",
        "\treturn rows"
      ],
      "execution_count": null,
      "outputs": []
    },
    {
      "cell_type": "code",
      "metadata": {
        "id": "Rxa8vCVV3JKL"
      },
      "source": [
        "set_vocab(df['sentence'])\n",
        "# vocb"
      ],
      "execution_count": null,
      "outputs": []
    },
    {
      "cell_type": "code",
      "metadata": {
        "colab": {
          "base_uri": "https://localhost:8080/"
        },
        "id": "TtYYVoOt6UP_",
        "outputId": "01505525-2b3f-4039-9efd-f7e11282c7f5"
      },
      "source": [
        "len(vocb)"
      ],
      "execution_count": null,
      "outputs": [
        {
          "output_type": "execute_result",
          "data": {
            "text/plain": [
              "35190"
            ]
          },
          "metadata": {
            "tags": []
          },
          "execution_count": 39
        }
      ]
    },
    {
      "cell_type": "code",
      "metadata": {
        "id": "1EbslX7iiyOp"
      },
      "source": [
        "def train_count_tfidf_SVM(df,cls,k=5):\n",
        "    kf = KFold(n_splits=k)\n",
        "    kf.get_n_splits(df)\n",
        "\n",
        "    i = 0\n",
        "    acc = []\n",
        "    YPred = np.array([])\n",
        "    YTest = np.array([])\n",
        "\n",
        "    row = []\n",
        "\n",
        "    for train_index, test_index in kf.split(df):\n",
        "\n",
        "        X_train, X_test = df['sentence'][train_index], df['sentence'][test_index]\n",
        "        y_train, y_test = df[cls][train_index], df[cls][test_index]\n",
        "\n",
        "        count_vec = CountVectorizer(\n",
        "            tokenizer=word_tokenize,\n",
        "            token_pattern=None,\n",
        "            stop_words = frozenset(stopwords),\n",
        "        )\n",
        "        count_vec.fit(X_train)\n",
        "\n",
        "        # transform training and validation data reviews\n",
        "        xtrain = count_vec.transform(X_train)\n",
        "        xtest = count_vec.transform(X_test)\n",
        "\n",
        "        # count_fit(X_train)\n",
        "        # xtrain = count_transform(X_train)\n",
        "        # xtest = count_transform(X_test)\n",
        "\n",
        "        # print(type(xtrain),xtrain.shape)\n",
        "        tfidf_vec = TfidfTransformer(\n",
        "            use_idf=False,\n",
        "            # stop_words=stopwords,\n",
        "        )\n",
        "        tfidf_vec.fit(xtrain)\n",
        "\n",
        "        # transform training and validation data reviews\n",
        "        xtrain = tfidf_vec.transform(xtrain)\n",
        "        xtest = tfidf_vec.transform(xtest)\n",
        "\n",
        "        # initialize logistic regression model\n",
        "        model = SVC(C=1.0, kernel='linear', degree=3, gamma='auto')\n",
        "\n",
        "        #scaling\n",
        "        scaler = StandardScaler(with_mean=False)\n",
        "        scaler.fit(xtrain)\n",
        "        # xtrainT = scaler.transform(xtrain)\n",
        "        # xtestT = scaler.transform(xtest)\n",
        "\n",
        "\n",
        "        model.fit(xtrain, y_train)\n",
        "\n",
        "        # make predictions on test data\n",
        "        # threshold for predictions is 0.5\n",
        "        preds = model.predict(xtest)\n",
        "        # calculate accuracy\n",
        "        accuracy = metrics.accuracy_score(y_test, preds)\n",
        "        acc.append(accuracy)\n",
        "\n",
        "        # print(f\"Fold: {i}\")\n",
        "        # print(f\"Accuracy = {accuracy}\")\n",
        "        # print(\"\")\n",
        "        # i+=1\n",
        "\n",
        "        YTest = np.concatenate([YTest,y_test.to_numpy()])\n",
        "        YPred = np.concatenate([YPred,preds])\n",
        "\n",
        "        # print(xtest)\n",
        "        # print(count_vec)\n",
        "        # break\n",
        "\n",
        "    print(\"Class: {}\".format(cls))\n",
        "    print(\"Accuracy score: {}\".format(accuracy_score(YTest,YPred)))\n",
        "    print(\"Precision score: {}\".format(precision_score(YTest,YPred)))\n",
        "    print(\"Recall score: {}\".format(recall_score(YTest,YPred)))\n",
        "    print(\"F1 score: {}\".format(f1_score(YTest,YPred)))\n",
        "    print(\"Confusion Matrix: {}\".format(confusion_matrix(YTest,YPred)))\n",
        "    print(\"\")\n",
        "\n",
        "    row.append(accuracy_score(YTest,YPred))\n",
        "    row.append(confusion_matrix(YTest,YPred))\n",
        "    row.append(precision_score(YTest,YPred))\n",
        "    row.append(recall_score(YTest,YPred))\n",
        "    row.append(f1_score(YTest,YPred))\n",
        "    \n",
        "    return row    \n",
        "\n",
        "\n",
        "def train_all_classes_SVM(df,classes):\n",
        "\n",
        "    rows = []\n",
        "\n",
        "    for cls in classes:\n",
        "        df_s = df[['sentence','label',cls]]\n",
        "        df_s1 = df_s[df_s[cls]==1]\n",
        "\n",
        "        df_s0 = df_s[df_s[cls]==0]\n",
        "        df_s0 = df_s0.sample(frac=1)\n",
        "        df_s0 = df_s0.iloc[:len(df_s1)]\n",
        "\n",
        "        df_sData = df_s1.append(df_s0)\n",
        "        df_sData = df_sData.reset_index()\n",
        "\n",
        "        r = train_count_tfidf_SVM(df_sData,cls)\n",
        "        rows.append(r)\n",
        "    \n",
        "    newdf = pd.DataFrame(rows)\n",
        "    return newdf"
      ],
      "execution_count": null,
      "outputs": []
    },
    {
      "cell_type": "code",
      "metadata": {
        "colab": {
          "base_uri": "https://localhost:8080/"
        },
        "id": "QnCSoJF9khiD",
        "outputId": "5a703ade-a41a-4bb6-a436-01f75f344be2"
      },
      "source": [
        "newdf2 = train_all_classes_SVM(df,multilabel_binarizer.classes_)"
      ],
      "execution_count": null,
      "outputs": [
        {
          "output_type": "stream",
          "text": [
            "Class: \n",
            "Accuracy score: 0.16666666666666666\n",
            "Precision score: 0.0\n",
            "Recall score: 0.0\n",
            "F1 score: 0.0\n",
            "Confusion Matrix: [[2 4]\n",
            " [6 0]]\n",
            "\n",
            "Class: agriculture\n",
            "Accuracy score: 0.7583603020496225\n",
            "Precision score: 0.8090322580645162\n",
            "Recall score: 0.6763754045307443\n",
            "F1 score: 0.736780258519389\n",
            "Confusion Matrix: [[1558  296]\n",
            " [ 600 1254]]\n",
            "\n",
            "Class: community_groups\n",
            "Accuracy score: 0.33516483516483514\n",
            "Precision score: 0.3333333333333333\n",
            "Recall score: 0.32967032967032966\n",
            "F1 score: 0.3314917127071823\n",
            "Confusion Matrix: [[31 60]\n",
            " [61 30]]\n",
            "\n",
            "Class: consumer_issues\n",
            "Accuracy score: 0.671280276816609\n",
            "Precision score: 0.7053941908713693\n",
            "Recall score: 0.5882352941176471\n",
            "F1 score: 0.6415094339622641\n",
            "Confusion Matrix: [[218  71]\n",
            " [119 170]]\n",
            "\n",
            "Class: culture_&_entertainment\n",
            "Accuracy score: 0.7091236722306525\n",
            "Precision score: 0.731763716628127\n",
            "Recall score: 0.6602807283763278\n",
            "F1 score: 0.6941868581114766\n",
            "Confusion Matrix: [[3996 1276]\n",
            " [1791 3481]]\n",
            "\n",
            "Class: education\n",
            "Accuracy score: 0.7173256866888017\n",
            "Precision score: 0.7597402597402597\n",
            "Recall score: 0.6356776335647449\n",
            "F1 score: 0.6921939194741167\n",
            "Confusion Matrix: [[2647  666]\n",
            " [1207 2106]]\n",
            "\n",
            "Class: employment\n",
            "Accuracy score: 0.707916287534122\n",
            "Precision score: 0.7519294377067255\n",
            "Recall score: 0.6205641492265697\n",
            "F1 score: 0.6799601196410767\n",
            "Confusion Matrix: [[874 225]\n",
            " [417 682]]\n",
            "\n",
            "Class: environment\n",
            "Accuracy score: 0.6341463414634146\n",
            "Precision score: 0.6627218934911243\n",
            "Recall score: 0.5463414634146342\n",
            "F1 score: 0.5989304812834225\n",
            "Confusion Matrix: [[592 228]\n",
            " [372 448]]\n",
            "\n",
            "Class: governance\n",
            "Accuracy score: 0.5523099233478351\n",
            "Precision score: 0.5566143497757847\n",
            "Recall score: 0.5142945929148539\n",
            "F1 score: 0.5346182836222677\n",
            "Confusion Matrix: [[5699 3955]\n",
            " [4689 4965]]\n",
            "\n",
            "Class: health\n",
            "Accuracy score: 0.5789065529274913\n",
            "Precision score: 0.5892543859649123\n",
            "Recall score: 0.5209383481969756\n",
            "F1 score: 0.5529944433010908\n",
            "Confusion Matrix: [[3285 1873]\n",
            " [2471 2687]]\n",
            "\n",
            "Class: industry\n",
            "Accuracy score: 0.6659836065573771\n",
            "Precision score: 0.684931506849315\n",
            "Recall score: 0.6147540983606558\n",
            "F1 score: 0.6479481641468683\n",
            "Confusion Matrix: [[175  69]\n",
            " [ 94 150]]\n",
            "\n",
            "Class: infrastructure_services\n",
            "Accuracy score: 0.6661367249602543\n",
            "Precision score: 0.6891060441549041\n",
            "Recall score: 0.6054054054054054\n",
            "F1 score: 0.6445497630331755\n",
            "Confusion Matrix: [[2286  859]\n",
            " [1241 1904]]\n",
            "\n",
            "Class: livelihood\n",
            "Accuracy score: 0.6272189349112426\n",
            "Precision score: 0.6514084507042254\n",
            "Recall score: 0.5473372781065089\n",
            "F1 score: 0.594855305466238\n",
            "Confusion Matrix: [[478 198]\n",
            " [306 370]]\n",
            "\n",
            "Class: local_news\n",
            "Accuracy score: 0.575677327357914\n",
            "Precision score: 0.5835019105416948\n",
            "Recall score: 0.5288246078631086\n",
            "F1 score: 0.554819405855952\n",
            "Confusion Matrix: [[3056 1853]\n",
            " [2313 2596]]\n",
            "\n",
            "Class: migration\n",
            "Accuracy score: 0.7743589743589744\n",
            "Precision score: 0.8022598870056498\n",
            "Recall score: 0.7282051282051282\n",
            "F1 score: 0.7634408602150538\n",
            "Confusion Matrix: [[160  35]\n",
            " [ 53 142]]\n",
            "\n",
            "Class: nan\n",
            "Accuracy score: 0.4945652173913043\n",
            "Precision score: 0.4945054945054945\n",
            "Recall score: 0.4891304347826087\n",
            "F1 score: 0.49180327868852464\n",
            "Confusion Matrix: [[92 92]\n",
            " [94 90]]\n",
            "\n",
            "Class: prices_inequality\n",
            "Accuracy score: 0.6235023041474654\n",
            "Precision score: 0.6416490486257929\n",
            "Recall score: 0.5594470046082949\n",
            "F1 score: 0.5977351058591827\n",
            "Confusion Matrix: [[746 339]\n",
            " [478 607]]\n",
            "\n",
            "Class: social_issues\n",
            "Accuracy score: 0.6765734265734266\n",
            "Precision score: 0.7139830508474576\n",
            "Recall score: 0.5891608391608392\n",
            "F1 score: 0.6455938697318008\n",
            "Confusion Matrix: [[437 135]\n",
            " [235 337]]\n",
            "\n"
          ],
          "name": "stdout"
        }
      ]
    },
    {
      "cell_type": "code",
      "metadata": {
        "colab": {
          "base_uri": "https://localhost:8080/",
          "height": 638
        },
        "id": "_Ro1Xedbrlv7",
        "outputId": "a71716e9-ab35-41a1-d067-17d93066a3cb"
      },
      "source": [
        "newdf2['labels'] = multilabel_binarizer.classes_\n",
        "newdf2 = newdf2.set_index('labels')\n",
        "newdf2"
      ],
      "execution_count": null,
      "outputs": [
        {
          "output_type": "execute_result",
          "data": {
            "text/html": [
              "<div>\n",
              "<style scoped>\n",
              "    .dataframe tbody tr th:only-of-type {\n",
              "        vertical-align: middle;\n",
              "    }\n",
              "\n",
              "    .dataframe tbody tr th {\n",
              "        vertical-align: top;\n",
              "    }\n",
              "\n",
              "    .dataframe thead th {\n",
              "        text-align: right;\n",
              "    }\n",
              "</style>\n",
              "<table border=\"1\" class=\"dataframe\">\n",
              "  <thead>\n",
              "    <tr style=\"text-align: right;\">\n",
              "      <th></th>\n",
              "      <th>0</th>\n",
              "      <th>1</th>\n",
              "      <th>2</th>\n",
              "      <th>3</th>\n",
              "      <th>4</th>\n",
              "    </tr>\n",
              "    <tr>\n",
              "      <th>labels</th>\n",
              "      <th></th>\n",
              "      <th></th>\n",
              "      <th></th>\n",
              "      <th></th>\n",
              "      <th></th>\n",
              "    </tr>\n",
              "  </thead>\n",
              "  <tbody>\n",
              "    <tr>\n",
              "      <th></th>\n",
              "      <td>0.000000</td>\n",
              "      <td>[[0, 6], [6, 0]]</td>\n",
              "      <td>0.000000</td>\n",
              "      <td>0.000000</td>\n",
              "      <td>0.000000</td>\n",
              "    </tr>\n",
              "    <tr>\n",
              "      <th>agriculture</th>\n",
              "      <td>0.766990</td>\n",
              "      <td>[[1570, 284], [580, 1274]]</td>\n",
              "      <td>0.817715</td>\n",
              "      <td>0.687163</td>\n",
              "      <td>0.746776</td>\n",
              "    </tr>\n",
              "    <tr>\n",
              "      <th>community_groups</th>\n",
              "      <td>0.401099</td>\n",
              "      <td>[[35, 56], [53, 38]]</td>\n",
              "      <td>0.404255</td>\n",
              "      <td>0.417582</td>\n",
              "      <td>0.410811</td>\n",
              "    </tr>\n",
              "    <tr>\n",
              "      <th>consumer_issues</th>\n",
              "      <td>0.641869</td>\n",
              "      <td>[[206, 83], [124, 165]]</td>\n",
              "      <td>0.665323</td>\n",
              "      <td>0.570934</td>\n",
              "      <td>0.614525</td>\n",
              "    </tr>\n",
              "    <tr>\n",
              "      <th>culture_&amp;_entertainment</th>\n",
              "      <td>0.701442</td>\n",
              "      <td>[[3948, 1324], [1824, 3448]]</td>\n",
              "      <td>0.722548</td>\n",
              "      <td>0.654021</td>\n",
              "      <td>0.686579</td>\n",
              "    </tr>\n",
              "    <tr>\n",
              "      <th>education</th>\n",
              "      <td>0.714760</td>\n",
              "      <td>[[2635, 678], [1212, 2101]]</td>\n",
              "      <td>0.756027</td>\n",
              "      <td>0.634168</td>\n",
              "      <td>0.689757</td>\n",
              "    </tr>\n",
              "    <tr>\n",
              "      <th>employment</th>\n",
              "      <td>0.718835</td>\n",
              "      <td>[[877, 222], [396, 703]]</td>\n",
              "      <td>0.760000</td>\n",
              "      <td>0.639672</td>\n",
              "      <td>0.694664</td>\n",
              "    </tr>\n",
              "    <tr>\n",
              "      <th>environment</th>\n",
              "      <td>0.628049</td>\n",
              "      <td>[[581, 239], [371, 449]]</td>\n",
              "      <td>0.652616</td>\n",
              "      <td>0.547561</td>\n",
              "      <td>0.595491</td>\n",
              "    </tr>\n",
              "    <tr>\n",
              "      <th>governance</th>\n",
              "      <td>0.546561</td>\n",
              "      <td>[[5618, 4036], [4719, 4935]]</td>\n",
              "      <td>0.550106</td>\n",
              "      <td>0.511187</td>\n",
              "      <td>0.529933</td>\n",
              "    </tr>\n",
              "    <tr>\n",
              "      <th>health</th>\n",
              "      <td>0.592769</td>\n",
              "      <td>[[3373, 1785], [2416, 2742]]</td>\n",
              "      <td>0.605699</td>\n",
              "      <td>0.531601</td>\n",
              "      <td>0.566236</td>\n",
              "    </tr>\n",
              "    <tr>\n",
              "      <th>industry</th>\n",
              "      <td>0.674180</td>\n",
              "      <td>[[175, 69], [90, 154]]</td>\n",
              "      <td>0.690583</td>\n",
              "      <td>0.631148</td>\n",
              "      <td>0.659529</td>\n",
              "    </tr>\n",
              "    <tr>\n",
              "      <th>infrastructure_services</th>\n",
              "      <td>0.655485</td>\n",
              "      <td>[[2235, 910], [1257, 1888]]</td>\n",
              "      <td>0.674768</td>\n",
              "      <td>0.600318</td>\n",
              "      <td>0.635369</td>\n",
              "    </tr>\n",
              "    <tr>\n",
              "      <th>livelihood</th>\n",
              "      <td>0.573225</td>\n",
              "      <td>[[435, 241], [336, 340]]</td>\n",
              "      <td>0.585198</td>\n",
              "      <td>0.502959</td>\n",
              "      <td>0.540971</td>\n",
              "    </tr>\n",
              "    <tr>\n",
              "      <th>local_news</th>\n",
              "      <td>0.574964</td>\n",
              "      <td>[[3100, 1809], [2364, 2545]]</td>\n",
              "      <td>0.584520</td>\n",
              "      <td>0.518436</td>\n",
              "      <td>0.549498</td>\n",
              "    </tr>\n",
              "    <tr>\n",
              "      <th>migration</th>\n",
              "      <td>0.748718</td>\n",
              "      <td>[[155, 40], [58, 137]]</td>\n",
              "      <td>0.774011</td>\n",
              "      <td>0.702564</td>\n",
              "      <td>0.736559</td>\n",
              "    </tr>\n",
              "    <tr>\n",
              "      <th>nan</th>\n",
              "      <td>0.508152</td>\n",
              "      <td>[[103, 81], [100, 84]]</td>\n",
              "      <td>0.509091</td>\n",
              "      <td>0.456522</td>\n",
              "      <td>0.481375</td>\n",
              "    </tr>\n",
              "    <tr>\n",
              "      <th>prices_inequality</th>\n",
              "      <td>0.630876</td>\n",
              "      <td>[[756, 329], [472, 613]]</td>\n",
              "      <td>0.650743</td>\n",
              "      <td>0.564977</td>\n",
              "      <td>0.604835</td>\n",
              "    </tr>\n",
              "    <tr>\n",
              "      <th>social_issues</th>\n",
              "      <td>0.668706</td>\n",
              "      <td>[[430, 142], [237, 335]]</td>\n",
              "      <td>0.702306</td>\n",
              "      <td>0.585664</td>\n",
              "      <td>0.638704</td>\n",
              "    </tr>\n",
              "  </tbody>\n",
              "</table>\n",
              "</div>"
            ],
            "text/plain": [
              "                                0  ...         4\n",
              "labels                             ...          \n",
              "                         0.000000  ...  0.000000\n",
              "agriculture              0.766990  ...  0.746776\n",
              "community_groups         0.401099  ...  0.410811\n",
              "consumer_issues          0.641869  ...  0.614525\n",
              "culture_&_entertainment  0.701442  ...  0.686579\n",
              "education                0.714760  ...  0.689757\n",
              "employment               0.718835  ...  0.694664\n",
              "environment              0.628049  ...  0.595491\n",
              "governance               0.546561  ...  0.529933\n",
              "health                   0.592769  ...  0.566236\n",
              "industry                 0.674180  ...  0.659529\n",
              "infrastructure_services  0.655485  ...  0.635369\n",
              "livelihood               0.573225  ...  0.540971\n",
              "local_news               0.574964  ...  0.549498\n",
              "migration                0.748718  ...  0.736559\n",
              "nan                      0.508152  ...  0.481375\n",
              "prices_inequality        0.630876  ...  0.604835\n",
              "social_issues            0.668706  ...  0.638704\n",
              "\n",
              "[18 rows x 5 columns]"
            ]
          },
          "metadata": {
            "tags": []
          },
          "execution_count": 34
        }
      ]
    },
    {
      "cell_type": "code",
      "metadata": {
        "colab": {
          "base_uri": "https://localhost:8080/",
          "height": 163
        },
        "id": "rnkO_aqtWZ6q",
        "outputId": "0b3f593a-306c-4c66-efd9-b888ac114320"
      },
      "source": [
        "newdf2"
      ],
      "execution_count": null,
      "outputs": [
        {
          "output_type": "error",
          "ename": "NameError",
          "evalue": "ignored",
          "traceback": [
            "\u001b[0;31m---------------------------------------------------------------------------\u001b[0m",
            "\u001b[0;31mNameError\u001b[0m                                 Traceback (most recent call last)",
            "\u001b[0;32m<ipython-input-41-112ba5ebf008>\u001b[0m in \u001b[0;36m<module>\u001b[0;34m()\u001b[0m\n\u001b[0;32m----> 1\u001b[0;31m \u001b[0mnewdf2\u001b[0m\u001b[0;34m\u001b[0m\u001b[0;34m\u001b[0m\u001b[0m\n\u001b[0m",
            "\u001b[0;31mNameError\u001b[0m: name 'newdf2' is not defined"
          ]
        }
      ]
    },
    {
      "cell_type": "code",
      "metadata": {
        "id": "wfF06tnxJE2g"
      },
      "source": [
        "def train_countVectorizer_SVM(df, k=5):\n",
        "\n",
        "    kf = KFold(n_splits=k)\n",
        "    kf.get_n_splits(df)\n",
        "\n",
        "    i = 0\n",
        "    acc = []\n",
        "    for train_index, test_index in kf.split(df):\n",
        "\n",
        "        X_train, X_test = df['sentence'][train_index], df['sentence'][test_index]\n",
        "        y_train, y_test = df[cls][train_index], df[cls][test_index]\n",
        "\n",
        "        count_vec = CountVectorizer(\n",
        "            tokenizer=word_tokenize,\n",
        "            token_pattern=None\n",
        "        )\n",
        "        count_vec.fit(X_train)\n",
        "\n",
        "        # transform training and validation data reviews\n",
        "        xtrain = count_vec.transform(X_train)\n",
        "        xtest = count_vec.transform(X_test)\n",
        "\n",
        "        # initialize logistic regression model\n",
        "        model = SVC(C=20, kernel='rbf')\n",
        "\n",
        "        #scaling\n",
        "        scaler = StandardScaler(with_mean=False)\n",
        "        scaler.fit(xtrain)\n",
        "        # xtrainT = scaler.transform(xtrain)\n",
        "        # xtestT = scaler.transform(xtest)\n",
        "\n",
        "\n",
        "        model.fit(xtrain, y_train)\n",
        "\n",
        "        # make predictions on test data\n",
        "        # threshold for predictions is 0.5\n",
        "        preds = model.predict(xtest)\n",
        "        # calculate accuracy\n",
        "        accuracy = metrics.accuracy_score(y_test, preds)\n",
        "        acc.append(accuracy)\n",
        "\n",
        "        print(f\"Fold: {i}\")\n",
        "        print(f\"Accuracy = {accuracy}\")\n",
        "        print(\"\")\n",
        "        i+=1\n",
        "\n",
        "        # print(xtest)\n",
        "        # print(count_vec)\n",
        "        # break\n",
        "    \n",
        "    print(sum(acc)/len(acc))"
      ],
      "execution_count": null,
      "outputs": []
    },
    {
      "cell_type": "code",
      "metadata": {
        "colab": {
          "base_uri": "https://localhost:8080/",
          "height": 163
        },
        "id": "EJt3VXR4Kw0s",
        "outputId": "02b7d93a-8214-41fd-d8de-4821e6c80823"
      },
      "source": [
        "train_countVectorizer_SVM(df_sData)"
      ],
      "execution_count": null,
      "outputs": [
        {
          "output_type": "error",
          "ename": "NameError",
          "evalue": "ignored",
          "traceback": [
            "\u001b[0;31m---------------------------------------------------------------------------\u001b[0m",
            "\u001b[0;31mNameError\u001b[0m                                 Traceback (most recent call last)",
            "\u001b[0;32m<ipython-input-34-d190f71da843>\u001b[0m in \u001b[0;36m<module>\u001b[0;34m()\u001b[0m\n\u001b[0;32m----> 1\u001b[0;31m \u001b[0mtrain_countVectorizer_SVM\u001b[0m\u001b[0;34m(\u001b[0m\u001b[0mdf_sData\u001b[0m\u001b[0;34m)\u001b[0m\u001b[0;34m\u001b[0m\u001b[0;34m\u001b[0m\u001b[0m\n\u001b[0m",
            "\u001b[0;31mNameError\u001b[0m: name 'df_sData' is not defined"
          ]
        }
      ]
    },
    {
      "cell_type": "code",
      "metadata": {
        "id": "vzG6LdQPMiNu"
      },
      "source": [
        ""
      ],
      "execution_count": null,
      "outputs": []
    },
    {
      "cell_type": "code",
      "metadata": {
        "id": "mkeJrvGpRJum"
      },
      "source": [
        "def train_tfidfVectorizer_SVM(df, k=5):\n",
        "\n",
        "    kf = KFold(n_splits=k)\n",
        "    kf.get_n_splits(df)\n",
        "\n",
        "    acc = []\n",
        "    i = 0\n",
        "    for train_index, test_index in kf.split(df):\n",
        "\n",
        "        X_train, X_test = df['sentence'][train_index], df['sentence'][test_index]\n",
        "        y_train, y_test = df[cls][train_index], df[cls][test_index]\n",
        "\n",
        "        tfidf_vec = TfidfVectorizer(\n",
        "            tokenizer=word_tokenize,\n",
        "            token_pattern=None,\n",
        "            # stop_words=stopwords,\n",
        "        )\n",
        "        tfidf_vec.fit(X_train)\n",
        "\n",
        "        # transform training and validation data reviews\n",
        "        xtrain = tfidf_vec.transform(X_train)\n",
        "        xtest = tfidf_vec.transform(X_test)\n",
        "\n",
        "        # initialize logistic regression model\n",
        "        model = SVC(C=100, kernel='rbf')\n",
        "\n",
        "        #scaling\n",
        "        scaler = StandardScaler(with_mean=False)\n",
        "        scaler.fit(xtrain)\n",
        "        # xtrainT = scaler.transform(xtrain)\n",
        "        # xtestT = scaler.transform(xtest)\n",
        "\n",
        "        model.fit(xtrain, y_train)\n",
        "\n",
        "        # make predictions on test data\n",
        "        # threshold for predictions is 0.5\n",
        "        preds = model.predict(xtest)\n",
        "        # calculate accuracy\n",
        "        accuracy = metrics.accuracy_score(y_test, preds)\n",
        "        acc.append(accuracy)\n",
        "\n",
        "        print(f\"Fold: {i}\")\n",
        "        print(f\"Accuracy = {accuracy}\")\n",
        "        print(\"\")\n",
        "        i+=1\n",
        "\n",
        "        # print(xtest)\n",
        "        # print(count_vec)\n",
        "        # break\n",
        "    print(sum(acc)/len(acc))"
      ],
      "execution_count": null,
      "outputs": []
    },
    {
      "cell_type": "code",
      "metadata": {
        "id": "q6U_WYlrUwu1"
      },
      "source": [
        "train_tfidfVectorizer_SVM(df_sData)"
      ],
      "execution_count": null,
      "outputs": []
    },
    {
      "cell_type": "code",
      "metadata": {
        "id": "8TbbiJP_hc1P"
      },
      "source": [
        "from sklearn import naive_bayes"
      ],
      "execution_count": null,
      "outputs": []
    },
    {
      "cell_type": "code",
      "metadata": {
        "id": "yHe4r3IUcThy"
      },
      "source": [
        "def train_tfidfVectorizer_NB(df, k=5):\n",
        "\n",
        "    kf = KFold(n_splits=k)\n",
        "    kf.get_n_splits(df)\n",
        "\n",
        "    acc = []\n",
        "    i = 0\n",
        "    for train_index, test_index in kf.split(df):\n",
        "\n",
        "        X_train, X_test = df['sentence'][train_index], df['sentence'][test_index]\n",
        "        y_train, y_test = df[cls][train_index], df[cls][test_index]\n",
        "\n",
        "        tfidf_vec = TfidfVectorizer(\n",
        "            tokenizer=word_tokenize,\n",
        "            token_pattern=None,\n",
        "            # stop_words=stopwords,\n",
        "        )\n",
        "        tfidf_vec.fit(X_train)\n",
        "\n",
        "        # transform training and validation data reviews\n",
        "        xtrain = tfidf_vec.transform(X_train)\n",
        "        xtest = tfidf_vec.transform(X_test)\n",
        "\n",
        "        # initialize logistic regression model\n",
        "        model = naive_bayes.MultinomialNB()\n",
        "\n",
        "        #scaling\n",
        "        scaler = StandardScaler(with_mean=False)\n",
        "        scaler.fit(xtrain)\n",
        "        # xtrainT = scaler.transform(xtrain)\n",
        "        # xtestT = scaler.transform(xtest)\n",
        "\n",
        "        model.fit(xtrain, y_train)\n",
        "\n",
        "        # make predictions on test data\n",
        "        # threshold for predictions is 0.5\n",
        "        preds = model.predict(xtest)\n",
        "        # calculate accuracy\n",
        "        accuracy = metrics.accuracy_score(y_test, preds)\n",
        "        acc.append(accuracy)\n",
        "\n",
        "        print(f\"Fold: {i}\")\n",
        "        print(f\"Accuracy = {accuracy}\")\n",
        "        print(\"\")\n",
        "        i+=1\n",
        "\n",
        "        # print(xtest)\n",
        "        # print(count_vec)\n",
        "        # break\n",
        "    print(sum(acc)/len(acc))"
      ],
      "execution_count": null,
      "outputs": []
    },
    {
      "cell_type": "code",
      "metadata": {
        "colab": {
          "base_uri": "https://localhost:8080/"
        },
        "id": "MNnJ20Uehmlr",
        "outputId": "9614f287-3ab6-4a62-b679-582cefe94c2e"
      },
      "source": [
        "train_tfidfVectorizer_NB(df_sData)"
      ],
      "execution_count": null,
      "outputs": [
        {
          "output_type": "stream",
          "text": [
            "Fold: 0\n",
            "Accuracy = 0.2232258064516129\n",
            "\n",
            "Fold: 1\n",
            "Accuracy = 0.18580645161290324\n",
            "\n",
            "Fold: 2\n",
            "Accuracy = 0.7493540051679587\n",
            "\n",
            "Fold: 3\n",
            "Accuracy = 0.05426356589147287\n",
            "\n",
            "Fold: 4\n",
            "Accuracy = 0.06330749354005168\n",
            "\n",
            "0.2551914645327999\n"
          ],
          "name": "stdout"
        }
      ]
    },
    {
      "cell_type": "code",
      "metadata": {
        "id": "5O8q_qfcqVhE"
      },
      "source": [
        "def sentence_to_vec(s, embedding_dict, stop_words, tokenizer, idf_dict):\n",
        "    \"\"\"\n",
        "    Given a sentence and other information,\n",
        "    this function returns embedding for the whole sentence\n",
        "    :param s: sentence, string\n",
        "    :param embedding_dict: dictionary word:vector\n",
        "    :param stop_words: list of stop words, if any\n",
        "    :param tokenizer: a tokenization function\n",
        "    \"\"\"\n",
        "\n",
        "    # # convert sentence to string and lowercase it\n",
        "    # words = str(s).lower()\n",
        "    \n",
        "    # tokenize the sentence\n",
        "    words = tokenizer(s)\n",
        "    \n",
        "    # remove stop word tokens\n",
        "    words = [w for w in words if not w in stop_words]\n",
        "    \n",
        "    # keep only alpha-numeric tokens\n",
        "    # words = [w for w in words if w.isalpha()]\n",
        "    \n",
        "    # initialize empty list to store embeddings\n",
        "    M = []\n",
        "    for w in words:\n",
        "    # for evert word, fetch the embedding from\n",
        "    # the dictionary and append to list of\n",
        "    # embeddings\n",
        "        emb = ft.get_word_vector(w)\n",
        "        M.append(emb)\n",
        "            \n",
        "    # if we dont have any vectors, return zeros\n",
        "    if len(M) == 0:\n",
        "        return np.zeros(300)\n",
        "    \n",
        "    # convert list of embeddings to array\n",
        "    M = np.array(M)\n",
        "    \n",
        "    # calculate sum over axis=0\n",
        "    v = M.sum(axis=0)\n",
        "    \n",
        "    # return normalized vector\n",
        "    return v / np.sqrt((v ** 2).sum())"
      ],
      "execution_count": null,
      "outputs": []
    },
    {
      "cell_type": "code",
      "metadata": {
        "colab": {
          "base_uri": "https://localhost:8080/",
          "height": 163
        },
        "id": "cz2_ufWnGx4o",
        "outputId": "4a25354e-2363-4d2d-8f16-57356f374269"
      },
      "source": [
        "train_fasttext_SVM(df_sData,5)"
      ],
      "execution_count": null,
      "outputs": [
        {
          "output_type": "error",
          "ename": "NameError",
          "evalue": "ignored",
          "traceback": [
            "\u001b[0;31m---------------------------------------------------------------------------\u001b[0m",
            "\u001b[0;31mNameError\u001b[0m                                 Traceback (most recent call last)",
            "\u001b[0;32m<ipython-input-24-31aa907ad1a7>\u001b[0m in \u001b[0;36m<module>\u001b[0;34m()\u001b[0m\n\u001b[0;32m----> 1\u001b[0;31m \u001b[0mtrain_fasttext_SVM\u001b[0m\u001b[0;34m(\u001b[0m\u001b[0mdf_sData\u001b[0m\u001b[0;34m,\u001b[0m\u001b[0;36m5\u001b[0m\u001b[0;34m)\u001b[0m\u001b[0;34m\u001b[0m\u001b[0;34m\u001b[0m\u001b[0m\n\u001b[0m",
            "\u001b[0;31mNameError\u001b[0m: name 'train_fasttext_SVM' is not defined"
          ]
        }
      ]
    },
    {
      "cell_type": "code",
      "metadata": {
        "id": "dt0fmaQoPwVX"
      },
      "source": [
        "from sklearn.ensemble import RandomForestClassifier\n"
      ],
      "execution_count": null,
      "outputs": []
    },
    {
      "cell_type": "code",
      "metadata": {
        "id": "HaxJY4MHIB6u"
      },
      "source": [
        "def train_fasttext_RF(df, k=5):\n",
        "\n",
        "    kf = KFold(n_splits=k)\n",
        "    kf.get_n_splits(df)\n",
        "\n",
        "    X = np.array(create_embeddings(df['sentence']))\n",
        "    print(X.shape)\n",
        "\n",
        "    acc = []\n",
        "    i = 0\n",
        "    for train_index, test_index in kf.split(df):\n",
        "\n",
        "        X_train, X_test = X[train_index], X[test_index]\n",
        "        y_train, y_test = df[cls][train_index], df[cls][test_index]\n",
        "\n",
        "        xtrain = X_train\n",
        "        xtest = X_test\n",
        "\n",
        "        # print(type(xtrain))\n",
        "        print(xtrain.shape)\n",
        "\n",
        "        # initialize logistic regression model\n",
        "        model = RandomForestClassifier(min_samples_split=100, max_depth=10)\n",
        "\n",
        "        #scaling\n",
        "        scaler = StandardScaler()\n",
        "        scaler.fit(xtrain)\n",
        "        xtrainT = scaler.transform(xtrain)\n",
        "        xtestT = scaler.transform(xtest)\n",
        "\n",
        "        model.fit(xtrainT, y_train)\n",
        "\n",
        "        # make predictions on test data\n",
        "        # threshold for predictions is 0.5\n",
        "        preds = model.predict(xtestT)\n",
        "        # calculate accuracy\n",
        "        accuracy = metrics.accuracy_score(y_test, preds)\n",
        "        acc.append(accuracy)\n",
        "\n",
        "        print(f\"Fold: {i}\")\n",
        "        print(f\"Accuracy = {accuracy}\")\n",
        "        print(\"Train Accuracy: {}\".format(metrics.accuracy_score(y_train,model.predict(xtrainT))))\n",
        "        print(\"\")\n",
        "        i+=1\n",
        "\n",
        "        # print(xtest)\n",
        "        # print(count_vec)\n",
        "        # break\n",
        "    print(sum(acc)/len(acc))"
      ],
      "execution_count": null,
      "outputs": []
    },
    {
      "cell_type": "code",
      "metadata": {
        "colab": {
          "base_uri": "https://localhost:8080/",
          "height": 527
        },
        "id": "Hm0YhseiQO19",
        "outputId": "1e0f8378-f59e-4b27-c5b6-abcb693ee935"
      },
      "source": [
        "train_fasttext_RF(df_sData)"
      ],
      "execution_count": null,
      "outputs": [
        {
          "output_type": "stream",
          "text": [
            "Creating sentence vectors\n",
            "(3872, 300)\n",
            "(3097, 300)\n",
            "Fold: 0\n",
            "Accuracy = 0.3251612903225806\n",
            "Train Accuracy: 0.8214401033257992\n",
            "\n",
            "(3097, 300)\n",
            "Fold: 1\n",
            "Accuracy = 0.23870967741935484\n",
            "Train Accuracy: 0.8098159509202454\n",
            "\n",
            "(3098, 300)\n"
          ],
          "name": "stdout"
        },
        {
          "output_type": "error",
          "ename": "KeyboardInterrupt",
          "evalue": "ignored",
          "traceback": [
            "\u001b[0;31m---------------------------------------------------------------------------\u001b[0m",
            "\u001b[0;31mKeyboardInterrupt\u001b[0m                         Traceback (most recent call last)",
            "\u001b[0;32m<ipython-input-130-acb20b0029cf>\u001b[0m in \u001b[0;36m<module>\u001b[0;34m()\u001b[0m\n\u001b[0;32m----> 1\u001b[0;31m \u001b[0mtrain_fasttext_RF\u001b[0m\u001b[0;34m(\u001b[0m\u001b[0mdf_sData\u001b[0m\u001b[0;34m)\u001b[0m\u001b[0;34m\u001b[0m\u001b[0;34m\u001b[0m\u001b[0m\n\u001b[0m",
            "\u001b[0;32m<ipython-input-129-738ddc13646c>\u001b[0m in \u001b[0;36mtrain_fasttext_RF\u001b[0;34m(df, k)\u001b[0m\n\u001b[1;32m     29\u001b[0m         \u001b[0mxtestT\u001b[0m \u001b[0;34m=\u001b[0m \u001b[0mscaler\u001b[0m\u001b[0;34m.\u001b[0m\u001b[0mtransform\u001b[0m\u001b[0;34m(\u001b[0m\u001b[0mxtest\u001b[0m\u001b[0;34m)\u001b[0m\u001b[0;34m\u001b[0m\u001b[0;34m\u001b[0m\u001b[0m\n\u001b[1;32m     30\u001b[0m \u001b[0;34m\u001b[0m\u001b[0m\n\u001b[0;32m---> 31\u001b[0;31m         \u001b[0mmodel\u001b[0m\u001b[0;34m.\u001b[0m\u001b[0mfit\u001b[0m\u001b[0;34m(\u001b[0m\u001b[0mxtrainT\u001b[0m\u001b[0;34m,\u001b[0m \u001b[0my_train\u001b[0m\u001b[0;34m)\u001b[0m\u001b[0;34m\u001b[0m\u001b[0;34m\u001b[0m\u001b[0m\n\u001b[0m\u001b[1;32m     32\u001b[0m \u001b[0;34m\u001b[0m\u001b[0m\n\u001b[1;32m     33\u001b[0m         \u001b[0;31m# make predictions on test data\u001b[0m\u001b[0;34m\u001b[0m\u001b[0;34m\u001b[0m\u001b[0;34m\u001b[0m\u001b[0m\n",
            "\u001b[0;32m/usr/local/lib/python3.6/dist-packages/sklearn/ensemble/_forest.py\u001b[0m in \u001b[0;36mfit\u001b[0;34m(self, X, y, sample_weight)\u001b[0m\n\u001b[1;32m    381\u001b[0m                     \u001b[0mverbose\u001b[0m\u001b[0;34m=\u001b[0m\u001b[0mself\u001b[0m\u001b[0;34m.\u001b[0m\u001b[0mverbose\u001b[0m\u001b[0;34m,\u001b[0m \u001b[0mclass_weight\u001b[0m\u001b[0;34m=\u001b[0m\u001b[0mself\u001b[0m\u001b[0;34m.\u001b[0m\u001b[0mclass_weight\u001b[0m\u001b[0;34m,\u001b[0m\u001b[0;34m\u001b[0m\u001b[0;34m\u001b[0m\u001b[0m\n\u001b[1;32m    382\u001b[0m                     n_samples_bootstrap=n_samples_bootstrap)\n\u001b[0;32m--> 383\u001b[0;31m                 for i, t in enumerate(trees))\n\u001b[0m\u001b[1;32m    384\u001b[0m \u001b[0;34m\u001b[0m\u001b[0m\n\u001b[1;32m    385\u001b[0m             \u001b[0;31m# Collect newly grown trees\u001b[0m\u001b[0;34m\u001b[0m\u001b[0;34m\u001b[0m\u001b[0;34m\u001b[0m\u001b[0m\n",
            "\u001b[0;32m/usr/local/lib/python3.6/dist-packages/joblib/parallel.py\u001b[0m in \u001b[0;36m__call__\u001b[0;34m(self, iterable)\u001b[0m\n\u001b[1;32m   1049\u001b[0m                 \u001b[0mself\u001b[0m\u001b[0;34m.\u001b[0m\u001b[0m_iterating\u001b[0m \u001b[0;34m=\u001b[0m \u001b[0mself\u001b[0m\u001b[0;34m.\u001b[0m\u001b[0m_original_iterator\u001b[0m \u001b[0;32mis\u001b[0m \u001b[0;32mnot\u001b[0m \u001b[0;32mNone\u001b[0m\u001b[0;34m\u001b[0m\u001b[0;34m\u001b[0m\u001b[0m\n\u001b[1;32m   1050\u001b[0m \u001b[0;34m\u001b[0m\u001b[0m\n\u001b[0;32m-> 1051\u001b[0;31m             \u001b[0;32mwhile\u001b[0m \u001b[0mself\u001b[0m\u001b[0;34m.\u001b[0m\u001b[0mdispatch_one_batch\u001b[0m\u001b[0;34m(\u001b[0m\u001b[0miterator\u001b[0m\u001b[0;34m)\u001b[0m\u001b[0;34m:\u001b[0m\u001b[0;34m\u001b[0m\u001b[0;34m\u001b[0m\u001b[0m\n\u001b[0m\u001b[1;32m   1052\u001b[0m                 \u001b[0;32mpass\u001b[0m\u001b[0;34m\u001b[0m\u001b[0;34m\u001b[0m\u001b[0m\n\u001b[1;32m   1053\u001b[0m \u001b[0;34m\u001b[0m\u001b[0m\n",
            "\u001b[0;32m/usr/local/lib/python3.6/dist-packages/joblib/parallel.py\u001b[0m in \u001b[0;36mdispatch_one_batch\u001b[0;34m(self, iterator)\u001b[0m\n\u001b[1;32m    864\u001b[0m                 \u001b[0;32mreturn\u001b[0m \u001b[0;32mFalse\u001b[0m\u001b[0;34m\u001b[0m\u001b[0;34m\u001b[0m\u001b[0m\n\u001b[1;32m    865\u001b[0m             \u001b[0;32melse\u001b[0m\u001b[0;34m:\u001b[0m\u001b[0;34m\u001b[0m\u001b[0;34m\u001b[0m\u001b[0m\n\u001b[0;32m--> 866\u001b[0;31m                 \u001b[0mself\u001b[0m\u001b[0;34m.\u001b[0m\u001b[0m_dispatch\u001b[0m\u001b[0;34m(\u001b[0m\u001b[0mtasks\u001b[0m\u001b[0;34m)\u001b[0m\u001b[0;34m\u001b[0m\u001b[0;34m\u001b[0m\u001b[0m\n\u001b[0m\u001b[1;32m    867\u001b[0m                 \u001b[0;32mreturn\u001b[0m \u001b[0;32mTrue\u001b[0m\u001b[0;34m\u001b[0m\u001b[0;34m\u001b[0m\u001b[0m\n\u001b[1;32m    868\u001b[0m \u001b[0;34m\u001b[0m\u001b[0m\n",
            "\u001b[0;32m/usr/local/lib/python3.6/dist-packages/joblib/parallel.py\u001b[0m in \u001b[0;36m_dispatch\u001b[0;34m(self, batch)\u001b[0m\n\u001b[1;32m    782\u001b[0m         \u001b[0;32mwith\u001b[0m \u001b[0mself\u001b[0m\u001b[0;34m.\u001b[0m\u001b[0m_lock\u001b[0m\u001b[0;34m:\u001b[0m\u001b[0;34m\u001b[0m\u001b[0;34m\u001b[0m\u001b[0m\n\u001b[1;32m    783\u001b[0m             \u001b[0mjob_idx\u001b[0m \u001b[0;34m=\u001b[0m \u001b[0mlen\u001b[0m\u001b[0;34m(\u001b[0m\u001b[0mself\u001b[0m\u001b[0;34m.\u001b[0m\u001b[0m_jobs\u001b[0m\u001b[0;34m)\u001b[0m\u001b[0;34m\u001b[0m\u001b[0;34m\u001b[0m\u001b[0m\n\u001b[0;32m--> 784\u001b[0;31m             \u001b[0mjob\u001b[0m \u001b[0;34m=\u001b[0m \u001b[0mself\u001b[0m\u001b[0;34m.\u001b[0m\u001b[0m_backend\u001b[0m\u001b[0;34m.\u001b[0m\u001b[0mapply_async\u001b[0m\u001b[0;34m(\u001b[0m\u001b[0mbatch\u001b[0m\u001b[0;34m,\u001b[0m \u001b[0mcallback\u001b[0m\u001b[0;34m=\u001b[0m\u001b[0mcb\u001b[0m\u001b[0;34m)\u001b[0m\u001b[0;34m\u001b[0m\u001b[0;34m\u001b[0m\u001b[0m\n\u001b[0m\u001b[1;32m    785\u001b[0m             \u001b[0;31m# A job can complete so quickly than its callback is\u001b[0m\u001b[0;34m\u001b[0m\u001b[0;34m\u001b[0m\u001b[0;34m\u001b[0m\u001b[0m\n\u001b[1;32m    786\u001b[0m             \u001b[0;31m# called before we get here, causing self._jobs to\u001b[0m\u001b[0;34m\u001b[0m\u001b[0;34m\u001b[0m\u001b[0;34m\u001b[0m\u001b[0m\n",
            "\u001b[0;32m/usr/local/lib/python3.6/dist-packages/joblib/_parallel_backends.py\u001b[0m in \u001b[0;36mapply_async\u001b[0;34m(self, func, callback)\u001b[0m\n\u001b[1;32m    206\u001b[0m     \u001b[0;32mdef\u001b[0m \u001b[0mapply_async\u001b[0m\u001b[0;34m(\u001b[0m\u001b[0mself\u001b[0m\u001b[0;34m,\u001b[0m \u001b[0mfunc\u001b[0m\u001b[0;34m,\u001b[0m \u001b[0mcallback\u001b[0m\u001b[0;34m=\u001b[0m\u001b[0;32mNone\u001b[0m\u001b[0;34m)\u001b[0m\u001b[0;34m:\u001b[0m\u001b[0;34m\u001b[0m\u001b[0;34m\u001b[0m\u001b[0m\n\u001b[1;32m    207\u001b[0m         \u001b[0;34m\"\"\"Schedule a func to be run\"\"\"\u001b[0m\u001b[0;34m\u001b[0m\u001b[0;34m\u001b[0m\u001b[0m\n\u001b[0;32m--> 208\u001b[0;31m         \u001b[0mresult\u001b[0m \u001b[0;34m=\u001b[0m \u001b[0mImmediateResult\u001b[0m\u001b[0;34m(\u001b[0m\u001b[0mfunc\u001b[0m\u001b[0;34m)\u001b[0m\u001b[0;34m\u001b[0m\u001b[0;34m\u001b[0m\u001b[0m\n\u001b[0m\u001b[1;32m    209\u001b[0m         \u001b[0;32mif\u001b[0m \u001b[0mcallback\u001b[0m\u001b[0;34m:\u001b[0m\u001b[0;34m\u001b[0m\u001b[0;34m\u001b[0m\u001b[0m\n\u001b[1;32m    210\u001b[0m             \u001b[0mcallback\u001b[0m\u001b[0;34m(\u001b[0m\u001b[0mresult\u001b[0m\u001b[0;34m)\u001b[0m\u001b[0;34m\u001b[0m\u001b[0;34m\u001b[0m\u001b[0m\n",
            "\u001b[0;32m/usr/local/lib/python3.6/dist-packages/joblib/_parallel_backends.py\u001b[0m in \u001b[0;36m__init__\u001b[0;34m(self, batch)\u001b[0m\n\u001b[1;32m    570\u001b[0m         \u001b[0;31m# Don't delay the application, to avoid keeping the input\u001b[0m\u001b[0;34m\u001b[0m\u001b[0;34m\u001b[0m\u001b[0;34m\u001b[0m\u001b[0m\n\u001b[1;32m    571\u001b[0m         \u001b[0;31m# arguments in memory\u001b[0m\u001b[0;34m\u001b[0m\u001b[0;34m\u001b[0m\u001b[0;34m\u001b[0m\u001b[0m\n\u001b[0;32m--> 572\u001b[0;31m         \u001b[0mself\u001b[0m\u001b[0;34m.\u001b[0m\u001b[0mresults\u001b[0m \u001b[0;34m=\u001b[0m \u001b[0mbatch\u001b[0m\u001b[0;34m(\u001b[0m\u001b[0;34m)\u001b[0m\u001b[0;34m\u001b[0m\u001b[0;34m\u001b[0m\u001b[0m\n\u001b[0m\u001b[1;32m    573\u001b[0m \u001b[0;34m\u001b[0m\u001b[0m\n\u001b[1;32m    574\u001b[0m     \u001b[0;32mdef\u001b[0m \u001b[0mget\u001b[0m\u001b[0;34m(\u001b[0m\u001b[0mself\u001b[0m\u001b[0;34m)\u001b[0m\u001b[0;34m:\u001b[0m\u001b[0;34m\u001b[0m\u001b[0;34m\u001b[0m\u001b[0m\n",
            "\u001b[0;32m/usr/local/lib/python3.6/dist-packages/joblib/parallel.py\u001b[0m in \u001b[0;36m__call__\u001b[0;34m(self)\u001b[0m\n\u001b[1;32m    261\u001b[0m         \u001b[0;32mwith\u001b[0m \u001b[0mparallel_backend\u001b[0m\u001b[0;34m(\u001b[0m\u001b[0mself\u001b[0m\u001b[0;34m.\u001b[0m\u001b[0m_backend\u001b[0m\u001b[0;34m,\u001b[0m \u001b[0mn_jobs\u001b[0m\u001b[0;34m=\u001b[0m\u001b[0mself\u001b[0m\u001b[0;34m.\u001b[0m\u001b[0m_n_jobs\u001b[0m\u001b[0;34m)\u001b[0m\u001b[0;34m:\u001b[0m\u001b[0;34m\u001b[0m\u001b[0;34m\u001b[0m\u001b[0m\n\u001b[1;32m    262\u001b[0m             return [func(*args, **kwargs)\n\u001b[0;32m--> 263\u001b[0;31m                     for func, args, kwargs in self.items]\n\u001b[0m\u001b[1;32m    264\u001b[0m \u001b[0;34m\u001b[0m\u001b[0m\n\u001b[1;32m    265\u001b[0m     \u001b[0;32mdef\u001b[0m \u001b[0m__reduce__\u001b[0m\u001b[0;34m(\u001b[0m\u001b[0mself\u001b[0m\u001b[0;34m)\u001b[0m\u001b[0;34m:\u001b[0m\u001b[0;34m\u001b[0m\u001b[0;34m\u001b[0m\u001b[0m\n",
            "\u001b[0;32m/usr/local/lib/python3.6/dist-packages/joblib/parallel.py\u001b[0m in \u001b[0;36m<listcomp>\u001b[0;34m(.0)\u001b[0m\n\u001b[1;32m    261\u001b[0m         \u001b[0;32mwith\u001b[0m \u001b[0mparallel_backend\u001b[0m\u001b[0;34m(\u001b[0m\u001b[0mself\u001b[0m\u001b[0;34m.\u001b[0m\u001b[0m_backend\u001b[0m\u001b[0;34m,\u001b[0m \u001b[0mn_jobs\u001b[0m\u001b[0;34m=\u001b[0m\u001b[0mself\u001b[0m\u001b[0;34m.\u001b[0m\u001b[0m_n_jobs\u001b[0m\u001b[0;34m)\u001b[0m\u001b[0;34m:\u001b[0m\u001b[0;34m\u001b[0m\u001b[0;34m\u001b[0m\u001b[0m\n\u001b[1;32m    262\u001b[0m             return [func(*args, **kwargs)\n\u001b[0;32m--> 263\u001b[0;31m                     for func, args, kwargs in self.items]\n\u001b[0m\u001b[1;32m    264\u001b[0m \u001b[0;34m\u001b[0m\u001b[0m\n\u001b[1;32m    265\u001b[0m     \u001b[0;32mdef\u001b[0m \u001b[0m__reduce__\u001b[0m\u001b[0;34m(\u001b[0m\u001b[0mself\u001b[0m\u001b[0;34m)\u001b[0m\u001b[0;34m:\u001b[0m\u001b[0;34m\u001b[0m\u001b[0;34m\u001b[0m\u001b[0m\n",
            "\u001b[0;32m/usr/local/lib/python3.6/dist-packages/sklearn/ensemble/_forest.py\u001b[0m in \u001b[0;36m_parallel_build_trees\u001b[0;34m(tree, forest, X, y, sample_weight, tree_idx, n_trees, verbose, class_weight, n_samples_bootstrap)\u001b[0m\n\u001b[1;32m    163\u001b[0m             \u001b[0mcurr_sample_weight\u001b[0m \u001b[0;34m*=\u001b[0m \u001b[0mcompute_sample_weight\u001b[0m\u001b[0;34m(\u001b[0m\u001b[0;34m'balanced'\u001b[0m\u001b[0;34m,\u001b[0m \u001b[0my\u001b[0m\u001b[0;34m,\u001b[0m \u001b[0mindices\u001b[0m\u001b[0;34m)\u001b[0m\u001b[0;34m\u001b[0m\u001b[0;34m\u001b[0m\u001b[0m\n\u001b[1;32m    164\u001b[0m \u001b[0;34m\u001b[0m\u001b[0m\n\u001b[0;32m--> 165\u001b[0;31m         \u001b[0mtree\u001b[0m\u001b[0;34m.\u001b[0m\u001b[0mfit\u001b[0m\u001b[0;34m(\u001b[0m\u001b[0mX\u001b[0m\u001b[0;34m,\u001b[0m \u001b[0my\u001b[0m\u001b[0;34m,\u001b[0m \u001b[0msample_weight\u001b[0m\u001b[0;34m=\u001b[0m\u001b[0mcurr_sample_weight\u001b[0m\u001b[0;34m,\u001b[0m \u001b[0mcheck_input\u001b[0m\u001b[0;34m=\u001b[0m\u001b[0;32mFalse\u001b[0m\u001b[0;34m)\u001b[0m\u001b[0;34m\u001b[0m\u001b[0;34m\u001b[0m\u001b[0m\n\u001b[0m\u001b[1;32m    166\u001b[0m     \u001b[0;32melse\u001b[0m\u001b[0;34m:\u001b[0m\u001b[0;34m\u001b[0m\u001b[0;34m\u001b[0m\u001b[0m\n\u001b[1;32m    167\u001b[0m         \u001b[0mtree\u001b[0m\u001b[0;34m.\u001b[0m\u001b[0mfit\u001b[0m\u001b[0;34m(\u001b[0m\u001b[0mX\u001b[0m\u001b[0;34m,\u001b[0m \u001b[0my\u001b[0m\u001b[0;34m,\u001b[0m \u001b[0msample_weight\u001b[0m\u001b[0;34m=\u001b[0m\u001b[0msample_weight\u001b[0m\u001b[0;34m,\u001b[0m \u001b[0mcheck_input\u001b[0m\u001b[0;34m=\u001b[0m\u001b[0;32mFalse\u001b[0m\u001b[0;34m)\u001b[0m\u001b[0;34m\u001b[0m\u001b[0;34m\u001b[0m\u001b[0m\n",
            "\u001b[0;32m/usr/local/lib/python3.6/dist-packages/sklearn/tree/_classes.py\u001b[0m in \u001b[0;36mfit\u001b[0;34m(self, X, y, sample_weight, check_input, X_idx_sorted)\u001b[0m\n\u001b[1;32m    875\u001b[0m             \u001b[0msample_weight\u001b[0m\u001b[0;34m=\u001b[0m\u001b[0msample_weight\u001b[0m\u001b[0;34m,\u001b[0m\u001b[0;34m\u001b[0m\u001b[0;34m\u001b[0m\u001b[0m\n\u001b[1;32m    876\u001b[0m             \u001b[0mcheck_input\u001b[0m\u001b[0;34m=\u001b[0m\u001b[0mcheck_input\u001b[0m\u001b[0;34m,\u001b[0m\u001b[0;34m\u001b[0m\u001b[0;34m\u001b[0m\u001b[0m\n\u001b[0;32m--> 877\u001b[0;31m             X_idx_sorted=X_idx_sorted)\n\u001b[0m\u001b[1;32m    878\u001b[0m         \u001b[0;32mreturn\u001b[0m \u001b[0mself\u001b[0m\u001b[0;34m\u001b[0m\u001b[0;34m\u001b[0m\u001b[0m\n\u001b[1;32m    879\u001b[0m \u001b[0;34m\u001b[0m\u001b[0m\n",
            "\u001b[0;32m/usr/local/lib/python3.6/dist-packages/sklearn/tree/_classes.py\u001b[0m in \u001b[0;36mfit\u001b[0;34m(self, X, y, sample_weight, check_input, X_idx_sorted)\u001b[0m\n\u001b[1;32m    365\u001b[0m                                            min_impurity_split)\n\u001b[1;32m    366\u001b[0m \u001b[0;34m\u001b[0m\u001b[0m\n\u001b[0;32m--> 367\u001b[0;31m         \u001b[0mbuilder\u001b[0m\u001b[0;34m.\u001b[0m\u001b[0mbuild\u001b[0m\u001b[0;34m(\u001b[0m\u001b[0mself\u001b[0m\u001b[0;34m.\u001b[0m\u001b[0mtree_\u001b[0m\u001b[0;34m,\u001b[0m \u001b[0mX\u001b[0m\u001b[0;34m,\u001b[0m \u001b[0my\u001b[0m\u001b[0;34m,\u001b[0m \u001b[0msample_weight\u001b[0m\u001b[0;34m,\u001b[0m \u001b[0mX_idx_sorted\u001b[0m\u001b[0;34m)\u001b[0m\u001b[0;34m\u001b[0m\u001b[0;34m\u001b[0m\u001b[0m\n\u001b[0m\u001b[1;32m    368\u001b[0m \u001b[0;34m\u001b[0m\u001b[0m\n\u001b[1;32m    369\u001b[0m         \u001b[0;32mif\u001b[0m \u001b[0mself\u001b[0m\u001b[0;34m.\u001b[0m\u001b[0mn_outputs_\u001b[0m \u001b[0;34m==\u001b[0m \u001b[0;36m1\u001b[0m \u001b[0;32mand\u001b[0m \u001b[0mis_classifier\u001b[0m\u001b[0;34m(\u001b[0m\u001b[0mself\u001b[0m\u001b[0;34m)\u001b[0m\u001b[0;34m:\u001b[0m\u001b[0;34m\u001b[0m\u001b[0;34m\u001b[0m\u001b[0m\n",
            "\u001b[0;31mKeyboardInterrupt\u001b[0m: "
          ]
        }
      ]
    },
    {
      "cell_type": "code",
      "metadata": {
        "id": "ziwfClXgQRqd"
      },
      "source": [
        "def fit(docs):  # comply with scikit-learn transformer requirement\n",
        "    \"\"\"\n",
        "    Fit in a list of docs, which had been preprocessed and tokenized,\n",
        "    such as word bi-grammed, stop-words removed, lemmatized, part of speech filtered.\n",
        "    Then build up a tfidf model to compute each word's idf as its weight.\n",
        "    Noted that tf weight is already involved when constructing average word vectors, and thus omitted.\n",
        "    :param\n",
        "        pre_processed_docs: list of docs, which are tokenized\n",
        "    :return:\n",
        "        self\n",
        "    \"\"\"\n",
        "\n",
        "    text_docs = []\n",
        "    for doc in docs:\n",
        "        text_docs.append(\" \".join(doc))\n",
        "\n",
        "    tfidf = TfidfVectorizer()\n",
        "    tfidf.fit(text_docs)  # must be list of text string\n",
        "\n",
        "    # if a word was never seen - it must be at least as infrequent\n",
        "    # as any of the known words - so the default idf is the max of\n",
        "    # known idf's\n",
        "    max_idf = max(tfidf.idf_)  # used as default value for defaultdict\n",
        "    word_idf_weight = defaultdict(lambda: max_idf,\n",
        "                        [(word, tfidf.idf_[i]) for word, i in tfidf.vocabulary_.items()])\n",
        "    return word_idf_weight"
      ],
      "execution_count": null,
      "outputs": []
    },
    {
      "cell_type": "code",
      "metadata": {
        "id": "YCayse-CqD2F"
      },
      "source": [
        ""
      ],
      "execution_count": null,
      "outputs": []
    }
  ]
}